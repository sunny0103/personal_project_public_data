{
 "cells": [
  {
   "cell_type": "markdown",
   "metadata": {},
   "source": [
    "# 한국 부동산 데이터 시각 경진대회\n",
    "\n",
    "https://machinelearningmastery.com/time-series-data-visualization-with-python/"
   ]
  },
  {
   "cell_type": "code",
   "execution_count": 1,
   "metadata": {},
   "outputs": [],
   "source": [
    "import pandas as pd\n",
    "import numpy as np\n",
    "import matplotlib.pyplot as plt\n",
    "import seaborn as sns\n",
    "plt.rc('font',family='Malgun Gothic') \n",
    "plt.rc('axes',unicode_minus=False)\n",
    "%matplotlib inline"
   ]
  },
  {
   "cell_type": "code",
   "execution_count": 2,
   "metadata": {},
   "outputs": [],
   "source": [
    "pd.set_option('display.max_rows', 500)\n",
    "pd.set_option('display.max_columns', 500)\n",
    "pd.set_option('display.width', 1000)\n",
    "pd.set_option('display.expand_frame_repr', False)"
   ]
  },
  {
   "cell_type": "markdown",
   "metadata": {},
   "source": [
    "## 지역별 지가 변동률"
   ]
  },
  {
   "cell_type": "code",
   "execution_count": 3,
   "metadata": {},
   "outputs": [
    {
     "data": {
      "text/plain": [
       "(194, 19)"
      ]
     },
     "execution_count": 3,
     "metadata": {},
     "output_type": "execute_result"
    }
   ],
   "source": [
    "# 데이터 로드\n",
    "region=pd.read_csv('data/realestate/지역별_지가변동률.csv',parse_dates=True)\n",
    "region.shape"
   ]
  },
  {
   "cell_type": "code",
   "execution_count": 4,
   "metadata": {},
   "outputs": [
    {
     "data": {
      "text/html": [
       "<div>\n",
       "<style scoped>\n",
       "    .dataframe tbody tr th:only-of-type {\n",
       "        vertical-align: middle;\n",
       "    }\n",
       "\n",
       "    .dataframe tbody tr th {\n",
       "        vertical-align: top;\n",
       "    }\n",
       "\n",
       "    .dataframe thead th {\n",
       "        text-align: right;\n",
       "    }\n",
       "</style>\n",
       "<table border=\"1\" class=\"dataframe\">\n",
       "  <thead>\n",
       "    <tr style=\"text-align: right;\">\n",
       "      <th></th>\n",
       "      <th>Unnamed: 0</th>\n",
       "      <th>전국[%]</th>\n",
       "      <th>서울[%]</th>\n",
       "      <th>부산[%]</th>\n",
       "      <th>대구[%]</th>\n",
       "      <th>인천[%]</th>\n",
       "      <th>광주[%]</th>\n",
       "      <th>대전[%]</th>\n",
       "      <th>울산[%]</th>\n",
       "      <th>세종[%]</th>\n",
       "      <th>경기[%]</th>\n",
       "      <th>강원[%]</th>\n",
       "      <th>충북[%]</th>\n",
       "      <th>충남[%]</th>\n",
       "      <th>전북[%]</th>\n",
       "      <th>전남[%]</th>\n",
       "      <th>경북[%]</th>\n",
       "      <th>경남[%]</th>\n",
       "      <th>제주[%]</th>\n",
       "    </tr>\n",
       "  </thead>\n",
       "  <tbody>\n",
       "    <tr>\n",
       "      <th>0</th>\n",
       "      <td>2005-01-01</td>\n",
       "      <td>0.226</td>\n",
       "      <td>0.192</td>\n",
       "      <td>0.083</td>\n",
       "      <td>0.212</td>\n",
       "      <td>0.145</td>\n",
       "      <td>0.156</td>\n",
       "      <td>0.196</td>\n",
       "      <td>0.137</td>\n",
       "      <td>NaN</td>\n",
       "      <td>0.374</td>\n",
       "      <td>0.142</td>\n",
       "      <td>0.221</td>\n",
       "      <td>0.463</td>\n",
       "      <td>0.108</td>\n",
       "      <td>0.099</td>\n",
       "      <td>0.163</td>\n",
       "      <td>0.140</td>\n",
       "      <td>0.150</td>\n",
       "    </tr>\n",
       "    <tr>\n",
       "      <th>1</th>\n",
       "      <td>2005-02-01</td>\n",
       "      <td>0.184</td>\n",
       "      <td>0.140</td>\n",
       "      <td>0.065</td>\n",
       "      <td>0.208</td>\n",
       "      <td>0.208</td>\n",
       "      <td>0.080</td>\n",
       "      <td>0.206</td>\n",
       "      <td>0.153</td>\n",
       "      <td>NaN</td>\n",
       "      <td>0.256</td>\n",
       "      <td>0.169</td>\n",
       "      <td>0.178</td>\n",
       "      <td>0.531</td>\n",
       "      <td>0.084</td>\n",
       "      <td>0.071</td>\n",
       "      <td>0.135</td>\n",
       "      <td>0.160</td>\n",
       "      <td>0.111</td>\n",
       "    </tr>\n",
       "    <tr>\n",
       "      <th>2</th>\n",
       "      <td>2005-03-01</td>\n",
       "      <td>0.348</td>\n",
       "      <td>0.403</td>\n",
       "      <td>0.119</td>\n",
       "      <td>0.278</td>\n",
       "      <td>0.470</td>\n",
       "      <td>0.154</td>\n",
       "      <td>0.674</td>\n",
       "      <td>0.180</td>\n",
       "      <td>NaN</td>\n",
       "      <td>0.324</td>\n",
       "      <td>0.257</td>\n",
       "      <td>0.227</td>\n",
       "      <td>1.154</td>\n",
       "      <td>0.085</td>\n",
       "      <td>0.139</td>\n",
       "      <td>0.161</td>\n",
       "      <td>0.225</td>\n",
       "      <td>0.102</td>\n",
       "    </tr>\n",
       "    <tr>\n",
       "      <th>3</th>\n",
       "      <td>2005-04-01</td>\n",
       "      <td>0.525</td>\n",
       "      <td>0.725</td>\n",
       "      <td>0.151</td>\n",
       "      <td>0.258</td>\n",
       "      <td>0.751</td>\n",
       "      <td>0.159</td>\n",
       "      <td>0.917</td>\n",
       "      <td>0.149</td>\n",
       "      <td>NaN</td>\n",
       "      <td>0.591</td>\n",
       "      <td>0.221</td>\n",
       "      <td>0.358</td>\n",
       "      <td>0.804</td>\n",
       "      <td>0.071</td>\n",
       "      <td>0.127</td>\n",
       "      <td>0.209</td>\n",
       "      <td>0.291</td>\n",
       "      <td>0.181</td>\n",
       "    </tr>\n",
       "    <tr>\n",
       "      <th>4</th>\n",
       "      <td>2005-05-01</td>\n",
       "      <td>0.562</td>\n",
       "      <td>0.590</td>\n",
       "      <td>0.185</td>\n",
       "      <td>0.254</td>\n",
       "      <td>0.693</td>\n",
       "      <td>0.291</td>\n",
       "      <td>0.850</td>\n",
       "      <td>0.131</td>\n",
       "      <td>NaN</td>\n",
       "      <td>0.882</td>\n",
       "      <td>0.229</td>\n",
       "      <td>0.476</td>\n",
       "      <td>0.883</td>\n",
       "      <td>0.094</td>\n",
       "      <td>0.152</td>\n",
       "      <td>0.224</td>\n",
       "      <td>0.310</td>\n",
       "      <td>0.247</td>\n",
       "    </tr>\n",
       "  </tbody>\n",
       "</table>\n",
       "</div>"
      ],
      "text/plain": [
       "   Unnamed: 0  전국[%]  서울[%]  부산[%]  대구[%]  인천[%]  광주[%]  대전[%]  울산[%]  세종[%]  경기[%]  강원[%]  충북[%]  충남[%]  전북[%]  전남[%]  경북[%]  경남[%]  제주[%]\n",
       "0  2005-01-01  0.226  0.192  0.083  0.212  0.145  0.156  0.196  0.137    NaN  0.374  0.142  0.221  0.463  0.108  0.099  0.163  0.140  0.150\n",
       "1  2005-02-01  0.184  0.140  0.065  0.208  0.208  0.080  0.206  0.153    NaN  0.256  0.169  0.178  0.531  0.084  0.071  0.135  0.160  0.111\n",
       "2  2005-03-01  0.348  0.403  0.119  0.278  0.470  0.154  0.674  0.180    NaN  0.324  0.257  0.227  1.154  0.085  0.139  0.161  0.225  0.102\n",
       "3  2005-04-01  0.525  0.725  0.151  0.258  0.751  0.159  0.917  0.149    NaN  0.591  0.221  0.358  0.804  0.071  0.127  0.209  0.291  0.181\n",
       "4  2005-05-01  0.562  0.590  0.185  0.254  0.693  0.291  0.850  0.131    NaN  0.882  0.229  0.476  0.883  0.094  0.152  0.224  0.310  0.247"
      ]
     },
     "execution_count": 4,
     "metadata": {},
     "output_type": "execute_result"
    }
   ],
   "source": [
    "region.head()"
   ]
  },
  {
   "cell_type": "code",
   "execution_count": 5,
   "metadata": {},
   "outputs": [
    {
     "name": "stdout",
     "output_type": "stream",
     "text": [
      "<class 'pandas.core.frame.DataFrame'>\n",
      "RangeIndex: 194 entries, 0 to 193\n",
      "Data columns (total 19 columns):\n",
      " #   Column      Non-Null Count  Dtype  \n",
      "---  ------      --------------  -----  \n",
      " 0   Unnamed: 0  194 non-null    object \n",
      " 1   전국[%]       194 non-null    float64\n",
      " 2   서울[%]       194 non-null    float64\n",
      " 3   부산[%]       194 non-null    float64\n",
      " 4   대구[%]       194 non-null    float64\n",
      " 5   인천[%]       194 non-null    float64\n",
      " 6   광주[%]       194 non-null    float64\n",
      " 7   대전[%]       194 non-null    float64\n",
      " 8   울산[%]       194 non-null    float64\n",
      " 9   세종[%]       104 non-null    float64\n",
      " 10  경기[%]       194 non-null    float64\n",
      " 11  강원[%]       194 non-null    float64\n",
      " 12  충북[%]       194 non-null    float64\n",
      " 13  충남[%]       194 non-null    float64\n",
      " 14  전북[%]       194 non-null    float64\n",
      " 15  전남[%]       194 non-null    float64\n",
      " 16  경북[%]       194 non-null    float64\n",
      " 17  경남[%]       194 non-null    float64\n",
      " 18  제주[%]       194 non-null    float64\n",
      "dtypes: float64(18), object(1)\n",
      "memory usage: 28.9+ KB\n"
     ]
    }
   ],
   "source": [
    "# 데이터 타입 확인\n",
    "region.info()"
   ]
  },
  {
   "cell_type": "code",
   "execution_count": 6,
   "metadata": {},
   "outputs": [
    {
     "name": "stdout",
     "output_type": "stream",
     "text": [
      "<class 'pandas.core.frame.DataFrame'>\n",
      "RangeIndex: 194 entries, 0 to 193\n",
      "Data columns (total 19 columns):\n",
      " #   Column      Non-Null Count  Dtype         \n",
      "---  ------      --------------  -----         \n",
      " 0   Unnamed: 0  194 non-null    datetime64[ns]\n",
      " 1   전국[%]       194 non-null    float64       \n",
      " 2   서울[%]       194 non-null    float64       \n",
      " 3   부산[%]       194 non-null    float64       \n",
      " 4   대구[%]       194 non-null    float64       \n",
      " 5   인천[%]       194 non-null    float64       \n",
      " 6   광주[%]       194 non-null    float64       \n",
      " 7   대전[%]       194 non-null    float64       \n",
      " 8   울산[%]       194 non-null    float64       \n",
      " 9   세종[%]       104 non-null    float64       \n",
      " 10  경기[%]       194 non-null    float64       \n",
      " 11  강원[%]       194 non-null    float64       \n",
      " 12  충북[%]       194 non-null    float64       \n",
      " 13  충남[%]       194 non-null    float64       \n",
      " 14  전북[%]       194 non-null    float64       \n",
      " 15  전남[%]       194 non-null    float64       \n",
      " 16  경북[%]       194 non-null    float64       \n",
      " 17  경남[%]       194 non-null    float64       \n",
      " 18  제주[%]       194 non-null    float64       \n",
      "dtypes: datetime64[ns](1), float64(18)\n",
      "memory usage: 28.9 KB\n"
     ]
    }
   ],
   "source": [
    "# object타입의 날짜 컬럼을 date타입으로 변경 후 컬럼명 변경\n",
    "region.iloc[:,0]=pd.to_datetime(region.iloc[:,0])\n",
    "region.info()"
   ]
  },
  {
   "cell_type": "code",
   "execution_count": 7,
   "metadata": {},
   "outputs": [
    {
     "data": {
      "text/plain": [
       "Index(['Unnamed', '전국', '서울', '부산', '대구', '인천', '광주', '대전', '울산', '세종', '경기', '강원', '충북', '충남', '전북', '전남', '경북', '경남', '제주'], dtype='object')"
      ]
     },
     "execution_count": 7,
     "metadata": {},
     "output_type": "execute_result"
    }
   ],
   "source": [
    "region.rename(columns=lambda x: x[:-3], inplace=True)\n",
    "region.columns"
   ]
  },
  {
   "cell_type": "code",
   "execution_count": 8,
   "metadata": {},
   "outputs": [
    {
     "data": {
      "text/plain": [
       "Index(['날짜', '전국', '서울', '부산', '대구', '인천', '광주', '대전', '울산', '세종', '경기', '강원', '충북', '충남', '전북', '전남', '경북', '경남', '제주'], dtype='object')"
      ]
     },
     "execution_count": 8,
     "metadata": {},
     "output_type": "execute_result"
    }
   ],
   "source": [
    "region=region.rename({'Unnamed':'날짜'},axis='columns')\n",
    "region.columns"
   ]
  },
  {
   "cell_type": "code",
   "execution_count": 9,
   "metadata": {},
   "outputs": [
    {
     "data": {
      "text/plain": [
       "[<matplotlib.lines.Line2D at 0x23490e9fb88>]"
      ]
     },
     "execution_count": 9,
     "metadata": {},
     "output_type": "execute_result"
    },
    {
     "data": {
      "image/png": "[encoded data removed]",
      "text/plain": [
       "<Figure size 432x288 with 1 Axes>"
      ]
     },
     "metadata": {
      "needs_background": "light"
     },
     "output_type": "display_data"
    }
   ],
   "source": [
    "plt.plot(region['날짜'],region['전국'])"
   ]
  }
 ],
 "metadata": {
  "kernelspec": {
   "display_name": "Python 3",
   "language": "python",
   "name": "python3"
  },
  "language_info": {
   "codemirror_mode": {
    "name": "ipython",
    "version": 3
   },
   "file_extension": ".py",
   "mimetype": "text/x-python",
   "name": "python",
   "nbconvert_exporter": "python",
   "pygments_lexer": "ipython3",
   "version": "3.7.6"
  },
  "toc": {
   "base_numbering": 1,
   "nav_menu": {},
   "number_sections": true,
   "sideBar": true,
   "skip_h1_title": false,
   "title_cell": "Table of Contents",
   "title_sidebar": "Contents",
   "toc_cell": false,
   "toc_position": {},
   "toc_section_display": true,
   "toc_window_display": true
  }
 },
 "nbformat": 4,
 "nbformat_minor": 4
}
