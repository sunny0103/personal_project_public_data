{
 "cells": [
  {
   "cell_type": "markdown",
   "metadata": {},
   "source": [
    "# 한국 부동산 데이터 시각 경진대회\n",
    "\n",
    "https://machinelearningmastery.com/time-series-data-visualization-with-python/"
   ]
  },
  {
   "cell_type": "markdown",
   "metadata": {},
   "source": [
    "## Get Jupyter ready"
   ]
  },
  {
   "cell_type": "code",
   "execution_count": 1,
   "metadata": {},
   "outputs": [],
   "source": [
    "import pandas as pd\n",
    "import numpy as np\n",
    "import matplotlib.pyplot as plt\n",
    "import seaborn as sns\n",
    "plt.rc('font',family='Malgun Gothic') \n",
    "plt.rc('axes',unicode_minus=False)\n",
    "%matplotlib inline"
   ]
  },
  {
   "cell_type": "code",
   "execution_count": 2,
   "metadata": {},
   "outputs": [],
   "source": [
    "pd.set_option('display.max_rows', 500)\n",
    "pd.set_option('display.max_columns', 500)\n",
    "pd.set_option('display.width', 1000)\n",
    "pd.set_option('display.expand_frame_repr', False)"
   ]
  },
  {
   "cell_type": "markdown",
   "metadata": {},
   "source": [
    "## Set Functions\n",
    "* 전체 데이터의 형태가 동일하여 function을 이용하여 데이터 분석"
   ]
  },
  {
   "cell_type": "code",
   "execution_count": 3,
   "metadata": {},
   "outputs": [],
   "source": [
    "# 데이터의 날짜컬럼을 지수로 변경해주는 함수\n",
    "def change_datetime(data):\n",
    "    datetime_series=pd.to_datetime(data['Unnamed: 0'])\n",
    "    datetime_index =pd.DatetimeIndex(datetime_series.values)\n",
    "    data=data.set_index(datetime_index)\n",
    "    data.drop(columns='Unnamed: 0',inplace=True)\n",
    "    data.info()\n"
   ]
  },
  {
   "cell_type": "markdown",
   "metadata": {},
   "source": [
    "## 지역별 지가 변동률"
   ]
  },
  {
   "cell_type": "code",
   "execution_count": 4,
   "metadata": {},
   "outputs": [
    {
     "data": {
      "text/plain": [
       "(194, 19)"
      ]
     },
     "execution_count": 4,
     "metadata": {},
     "output_type": "execute_result"
    }
   ],
   "source": [
    "# 데이터 로드\n",
    "region=pd.read_csv('data/realestate/지역별_지가변동률.csv',parse_dates=True)\n",
    "region.shape"
   ]
  },
  {
   "cell_type": "code",
   "execution_count": 5,
   "metadata": {},
   "outputs": [
    {
     "data": {
      "text/html": [
       "<div>\n",
       "<style scoped>\n",
       "    .dataframe tbody tr th:only-of-type {\n",
       "        vertical-align: middle;\n",
       "    }\n",
       "\n",
       "    .dataframe tbody tr th {\n",
       "        vertical-align: top;\n",
       "    }\n",
       "\n",
       "    .dataframe thead th {\n",
       "        text-align: right;\n",
       "    }\n",
       "</style>\n",
       "<table border=\"1\" class=\"dataframe\">\n",
       "  <thead>\n",
       "    <tr style=\"text-align: right;\">\n",
       "      <th></th>\n",
       "      <th>Unnamed: 0</th>\n",
       "      <th>전국[%]</th>\n",
       "      <th>서울[%]</th>\n",
       "      <th>부산[%]</th>\n",
       "      <th>대구[%]</th>\n",
       "      <th>인천[%]</th>\n",
       "      <th>광주[%]</th>\n",
       "      <th>대전[%]</th>\n",
       "      <th>울산[%]</th>\n",
       "      <th>세종[%]</th>\n",
       "      <th>경기[%]</th>\n",
       "      <th>강원[%]</th>\n",
       "      <th>충북[%]</th>\n",
       "      <th>충남[%]</th>\n",
       "      <th>전북[%]</th>\n",
       "      <th>전남[%]</th>\n",
       "      <th>경북[%]</th>\n",
       "      <th>경남[%]</th>\n",
       "      <th>제주[%]</th>\n",
       "    </tr>\n",
       "  </thead>\n",
       "  <tbody>\n",
       "    <tr>\n",
       "      <th>0</th>\n",
       "      <td>2005-01-01</td>\n",
       "      <td>0.226</td>\n",
       "      <td>0.192</td>\n",
       "      <td>0.083</td>\n",
       "      <td>0.212</td>\n",
       "      <td>0.145</td>\n",
       "      <td>0.156</td>\n",
       "      <td>0.196</td>\n",
       "      <td>0.137</td>\n",
       "      <td>NaN</td>\n",
       "      <td>0.374</td>\n",
       "      <td>0.142</td>\n",
       "      <td>0.221</td>\n",
       "      <td>0.463</td>\n",
       "      <td>0.108</td>\n",
       "      <td>0.099</td>\n",
       "      <td>0.163</td>\n",
       "      <td>0.140</td>\n",
       "      <td>0.150</td>\n",
       "    </tr>\n",
       "    <tr>\n",
       "      <th>1</th>\n",
       "      <td>2005-02-01</td>\n",
       "      <td>0.184</td>\n",
       "      <td>0.140</td>\n",
       "      <td>0.065</td>\n",
       "      <td>0.208</td>\n",
       "      <td>0.208</td>\n",
       "      <td>0.080</td>\n",
       "      <td>0.206</td>\n",
       "      <td>0.153</td>\n",
       "      <td>NaN</td>\n",
       "      <td>0.256</td>\n",
       "      <td>0.169</td>\n",
       "      <td>0.178</td>\n",
       "      <td>0.531</td>\n",
       "      <td>0.084</td>\n",
       "      <td>0.071</td>\n",
       "      <td>0.135</td>\n",
       "      <td>0.160</td>\n",
       "      <td>0.111</td>\n",
       "    </tr>\n",
       "    <tr>\n",
       "      <th>2</th>\n",
       "      <td>2005-03-01</td>\n",
       "      <td>0.348</td>\n",
       "      <td>0.403</td>\n",
       "      <td>0.119</td>\n",
       "      <td>0.278</td>\n",
       "      <td>0.470</td>\n",
       "      <td>0.154</td>\n",
       "      <td>0.674</td>\n",
       "      <td>0.180</td>\n",
       "      <td>NaN</td>\n",
       "      <td>0.324</td>\n",
       "      <td>0.257</td>\n",
       "      <td>0.227</td>\n",
       "      <td>1.154</td>\n",
       "      <td>0.085</td>\n",
       "      <td>0.139</td>\n",
       "      <td>0.161</td>\n",
       "      <td>0.225</td>\n",
       "      <td>0.102</td>\n",
       "    </tr>\n",
       "    <tr>\n",
       "      <th>3</th>\n",
       "      <td>2005-04-01</td>\n",
       "      <td>0.525</td>\n",
       "      <td>0.725</td>\n",
       "      <td>0.151</td>\n",
       "      <td>0.258</td>\n",
       "      <td>0.751</td>\n",
       "      <td>0.159</td>\n",
       "      <td>0.917</td>\n",
       "      <td>0.149</td>\n",
       "      <td>NaN</td>\n",
       "      <td>0.591</td>\n",
       "      <td>0.221</td>\n",
       "      <td>0.358</td>\n",
       "      <td>0.804</td>\n",
       "      <td>0.071</td>\n",
       "      <td>0.127</td>\n",
       "      <td>0.209</td>\n",
       "      <td>0.291</td>\n",
       "      <td>0.181</td>\n",
       "    </tr>\n",
       "    <tr>\n",
       "      <th>4</th>\n",
       "      <td>2005-05-01</td>\n",
       "      <td>0.562</td>\n",
       "      <td>0.590</td>\n",
       "      <td>0.185</td>\n",
       "      <td>0.254</td>\n",
       "      <td>0.693</td>\n",
       "      <td>0.291</td>\n",
       "      <td>0.850</td>\n",
       "      <td>0.131</td>\n",
       "      <td>NaN</td>\n",
       "      <td>0.882</td>\n",
       "      <td>0.229</td>\n",
       "      <td>0.476</td>\n",
       "      <td>0.883</td>\n",
       "      <td>0.094</td>\n",
       "      <td>0.152</td>\n",
       "      <td>0.224</td>\n",
       "      <td>0.310</td>\n",
       "      <td>0.247</td>\n",
       "    </tr>\n",
       "  </tbody>\n",
       "</table>\n",
       "</div>"
      ],
      "text/plain": [
       "   Unnamed: 0  전국[%]  서울[%]  부산[%]  대구[%]  인천[%]  광주[%]  대전[%]  울산[%]  세종[%]  경기[%]  강원[%]  충북[%]  충남[%]  전북[%]  전남[%]  경북[%]  경남[%]  제주[%]\n",
       "0  2005-01-01  0.226  0.192  0.083  0.212  0.145  0.156  0.196  0.137    NaN  0.374  0.142  0.221  0.463  0.108  0.099  0.163  0.140  0.150\n",
       "1  2005-02-01  0.184  0.140  0.065  0.208  0.208  0.080  0.206  0.153    NaN  0.256  0.169  0.178  0.531  0.084  0.071  0.135  0.160  0.111\n",
       "2  2005-03-01  0.348  0.403  0.119  0.278  0.470  0.154  0.674  0.180    NaN  0.324  0.257  0.227  1.154  0.085  0.139  0.161  0.225  0.102\n",
       "3  2005-04-01  0.525  0.725  0.151  0.258  0.751  0.159  0.917  0.149    NaN  0.591  0.221  0.358  0.804  0.071  0.127  0.209  0.291  0.181\n",
       "4  2005-05-01  0.562  0.590  0.185  0.254  0.693  0.291  0.850  0.131    NaN  0.882  0.229  0.476  0.883  0.094  0.152  0.224  0.310  0.247"
      ]
     },
     "execution_count": 5,
     "metadata": {},
     "output_type": "execute_result"
    }
   ],
   "source": [
    "region.head()"
   ]
  },
  {
   "cell_type": "code",
   "execution_count": 6,
   "metadata": {},
   "outputs": [
    {
     "name": "stdout",
     "output_type": "stream",
     "text": [
      "<class 'pandas.core.frame.DataFrame'>\n",
      "RangeIndex: 194 entries, 0 to 193\n",
      "Data columns (total 19 columns):\n",
      " #   Column      Non-Null Count  Dtype  \n",
      "---  ------      --------------  -----  \n",
      " 0   Unnamed: 0  194 non-null    object \n",
      " 1   전국[%]       194 non-null    float64\n",
      " 2   서울[%]       194 non-null    float64\n",
      " 3   부산[%]       194 non-null    float64\n",
      " 4   대구[%]       194 non-null    float64\n",
      " 5   인천[%]       194 non-null    float64\n",
      " 6   광주[%]       194 non-null    float64\n",
      " 7   대전[%]       194 non-null    float64\n",
      " 8   울산[%]       194 non-null    float64\n",
      " 9   세종[%]       104 non-null    float64\n",
      " 10  경기[%]       194 non-null    float64\n",
      " 11  강원[%]       194 non-null    float64\n",
      " 12  충북[%]       194 non-null    float64\n",
      " 13  충남[%]       194 non-null    float64\n",
      " 14  전북[%]       194 non-null    float64\n",
      " 15  전남[%]       194 non-null    float64\n",
      " 16  경북[%]       194 non-null    float64\n",
      " 17  경남[%]       194 non-null    float64\n",
      " 18  제주[%]       194 non-null    float64\n",
      "dtypes: float64(18), object(1)\n",
      "memory usage: 28.9+ KB\n"
     ]
    }
   ],
   "source": [
    "# 데이터 타입 확인\n",
    "region.info()"
   ]
  },
  {
   "cell_type": "markdown",
   "metadata": {},
   "source": [
    "<div class=\"alert alert-block alert-warning\">\n",
    "    <b>Findings: </b> 다른 데이터도 날짜가 object타입으로 되어 있어 datetime으로 변경할 수 있도록 함수을 만듬</div>"
   ]
  },
  {
   "cell_type": "code",
   "execution_count": 7,
   "metadata": {},
   "outputs": [
    {
     "name": "stdout",
     "output_type": "stream",
     "text": [
      "<class 'pandas.core.frame.DataFrame'>\n",
      "DatetimeIndex: 194 entries, 2005-01-01 to 2021-02-01\n",
      "Data columns (total 18 columns):\n",
      " #   Column  Non-Null Count  Dtype  \n",
      "---  ------  --------------  -----  \n",
      " 0   전국[%]   194 non-null    float64\n",
      " 1   서울[%]   194 non-null    float64\n",
      " 2   부산[%]   194 non-null    float64\n",
      " 3   대구[%]   194 non-null    float64\n",
      " 4   인천[%]   194 non-null    float64\n",
      " 5   광주[%]   194 non-null    float64\n",
      " 6   대전[%]   194 non-null    float64\n",
      " 7   울산[%]   194 non-null    float64\n",
      " 8   세종[%]   104 non-null    float64\n",
      " 9   경기[%]   194 non-null    float64\n",
      " 10  강원[%]   194 non-null    float64\n",
      " 11  충북[%]   194 non-null    float64\n",
      " 12  충남[%]   194 non-null    float64\n",
      " 13  전북[%]   194 non-null    float64\n",
      " 14  전남[%]   194 non-null    float64\n",
      " 15  경북[%]   194 non-null    float64\n",
      " 16  경남[%]   194 non-null    float64\n",
      " 17  제주[%]   194 non-null    float64\n",
      "dtypes: float64(18)\n",
      "memory usage: 28.8 KB\n"
     ]
    }
   ],
   "source": [
    "# 날짜를 object에서 datetime타입으로 변경\n",
    "change_datetime(region)"
   ]
  },
  {
   "cell_type": "code",
   "execution_count": null,
   "metadata": {},
   "outputs": [],
   "source": [
    "# 변동률임이 명시되어있어 지역컬럼명의 % 를 제거\n",
    "# region.rename(columns=lambda x: x[:-3], inplace=True)\n",
    "# region.columns"
   ]
  },
  {
   "cell_type": "code",
   "execution_count": 9,
   "metadata": {},
   "outputs": [
    {
     "name": "stdout",
     "output_type": "stream",
     "text": [
      "<class 'pandas.core.frame.DataFrame'>\n",
      "RangeIndex: 194 entries, 0 to 193\n",
      "Data columns (total 19 columns):\n",
      " #   Column      Non-Null Count  Dtype  \n",
      "---  ------      --------------  -----  \n",
      " 0   Unnamed: 0  194 non-null    object \n",
      " 1   전국[%]       194 non-null    float64\n",
      " 2   서울[%]       194 non-null    float64\n",
      " 3   부산[%]       194 non-null    float64\n",
      " 4   대구[%]       194 non-null    float64\n",
      " 5   인천[%]       194 non-null    float64\n",
      " 6   광주[%]       194 non-null    float64\n",
      " 7   대전[%]       194 non-null    float64\n",
      " 8   울산[%]       194 non-null    float64\n",
      " 9   세종[%]       104 non-null    float64\n",
      " 10  경기[%]       194 non-null    float64\n",
      " 11  강원[%]       194 non-null    float64\n",
      " 12  충북[%]       194 non-null    float64\n",
      " 13  충남[%]       194 non-null    float64\n",
      " 14  전북[%]       194 non-null    float64\n",
      " 15  전남[%]       194 non-null    float64\n",
      " 16  경북[%]       194 non-null    float64\n",
      " 17  경남[%]       194 non-null    float64\n",
      " 18  제주[%]       194 non-null    float64\n",
      "dtypes: float64(18), object(1)\n",
      "memory usage: 28.9+ KB\n"
     ]
    }
   ],
   "source": []
  },
  {
   "cell_type": "code",
   "execution_count": null,
   "metadata": {},
   "outputs": [],
   "source": [
    "region.plot()"
   ]
  },
  {
   "cell_type": "code",
   "execution_count": null,
   "metadata": {},
   "outputs": [],
   "source": [
    "tempre=region.columns[1:]\n",
    "tempre"
   ]
  },
  {
   "cell_type": "code",
   "execution_count": null,
   "metadata": {},
   "outputs": [],
   "source": [
    "plt.figure(figsize=(15,7))\n",
    "for i in enumerate(tempre):\n",
    "    sns.lineplot(region['날짜'],region[i[1]])\n",
    "plt.legend(tempre)\n",
    "plt.ylim(-4, 2.5)\n",
    "plt.ylabel(\"지가변동률\")\n",
    "plt.show()"
   ]
  },
  {
   "cell_type": "markdown",
   "metadata": {},
   "source": [
    "* 모든 지역의 지가변동률을 하나의 그래프로 표현하면 어떤 지역이 다른 특징을 지니고 변동하였는지 알기 어려우므로 각 지역별 변동률을 알아볼수 있도록 개별 그래프로 그림"
   ]
  },
  {
   "cell_type": "code",
   "execution_count": null,
   "metadata": {},
   "outputs": [],
   "source": [
    "#각 지역별 지가 변동률과 전국 지가변동률 표현\n",
    "plt.figure(figsize=(20,25))\n",
    "tempre=region.columns[1:]\n",
    "for i in enumerate(tempre):\n",
    "    plt.subplot(6,3,i[0]+1)\n",
    "    plt.plot(region['날짜'],region[i[1]])\n",
    "    plt.ylim(-4, 2.5) # 변동률의 폭이 각기 다름으로 객관적으로 보기위해 y축을 설정함\n",
    "    plt.title(i[1])\n",
    "    plt.ylabel(\"지가변동률\")"
   ]
  },
  {
   "cell_type": "markdown",
   "metadata": {},
   "source": [
    "<div class=\"alert alert-block alert-info\">\n",
    "<b>Insight:</b> <br> 지가 변동폭을 다르지만 대부분의 지역이 비슷한 형태를 보이고 있으나 제주와 세종 지역은 다른 지역들과는 다른 지가 변동률 등락을 보이고 있다.  또한 수도권 지역인 서울, 경기, 인천의 지가 변동률 등락은 다른 지역에 비해 큰 변동을 보이고 있음을 알 수 있다. 제주 세종지역의 가격 변동이 왜 다른 지는 지가 변동률 데이터로만으로 알기 어려우므로 추가적인 데이터가 필요할 것으로 보인다. \n",
    "</div>"
   ]
  },
  {
   "cell_type": "markdown",
   "metadata": {},
   "source": [
    "## 건축허가현황"
   ]
  },
  {
   "cell_type": "code",
   "execution_count": null,
   "metadata": {},
   "outputs": [],
   "source": [
    "# 데이터 로드\n",
    "const=pd.read_csv('data/realestate/건축허가현황.csv',parse_dates=True)\n",
    "const.shape"
   ]
  },
  {
   "cell_type": "code",
   "execution_count": null,
   "metadata": {},
   "outputs": [],
   "source": [
    "const.head()"
   ]
  },
  {
   "cell_type": "code",
   "execution_count": null,
   "metadata": {},
   "outputs": [],
   "source": [
    "# 데이터 타입 확인\n",
    "const.info()"
   ]
  },
  {
   "cell_type": "code",
   "execution_count": null,
   "metadata": {},
   "outputs": [],
   "source": [
    "change_datetime(const)"
   ]
  },
  {
   "cell_type": "markdown",
   "metadata": {},
   "source": [
    "<div class=\"alert alert-block alert-warning\">\n",
    "    <b>Findings: </b> 지역별 지가 변동률을 제외한 다른 데이터의 컬럼은 정보성 성격이 있음으로 변경하지 않고 날짜 컬럼명만 변경하기 위해 함수 설정</div>"
   ]
  },
  {
   "cell_type": "code",
   "execution_count": null,
   "metadata": {},
   "outputs": [],
   "source": [
    "# 날짜컬럼명 변경 함수\n",
    "def date_columnname(data):\n",
    "    data=data.rename({'Unnamed: 0':'날짜'},axis='columns', inplace=True)\n",
    "    print('날짜컬럼명 변경')"
   ]
  },
  {
   "cell_type": "code",
   "execution_count": null,
   "metadata": {},
   "outputs": [],
   "source": [
    "# 건축현황 날짜 컬럼명 변경\n",
    "date_columnname(const) "
   ]
  },
  {
   "cell_type": "code",
   "execution_count": null,
   "metadata": {},
   "outputs": [],
   "source": [
    "const.columns"
   ]
  },
  {
   "cell_type": "code",
   "execution_count": null,
   "metadata": {},
   "outputs": [],
   "source": [
    "plt.figure(figsize=(15,7))\n",
    "const.index"
   ]
  },
  {
   "cell_type": "code",
   "execution_count": null,
   "metadata": {},
   "outputs": [],
   "source": [
    "domestic=pd.read_csv('data/realestate/국내건설수주액.csv',parse_dates=True)\n",
    "domestic.info()"
   ]
  },
  {
   "cell_type": "code",
   "execution_count": null,
   "metadata": {},
   "outputs": [],
   "source": [
    "change_datetime(domestic)"
   ]
  },
  {
   "cell_type": "code",
   "execution_count": null,
   "metadata": {},
   "outputs": [],
   "source": [
    "date_columnname(domestic)"
   ]
  },
  {
   "cell_type": "code",
   "execution_count": null,
   "metadata": {},
   "outputs": [],
   "source": [
    "unsold=pd.read_csv('data/realestate/미분양주택현황.csv',parse_dates=True) \n",
    "unsold.info()"
   ]
  },
  {
   "cell_type": "code",
   "execution_count": null,
   "metadata": {},
   "outputs": [],
   "source": [
    "change_datetime(unsold)"
   ]
  },
  {
   "cell_type": "code",
   "execution_count": null,
   "metadata": {},
   "outputs": [],
   "source": [
    "date_columnname(unsold)"
   ]
  },
  {
   "cell_type": "code",
   "execution_count": null,
   "metadata": {},
   "outputs": [],
   "source": [
    "realprice=pd.read_csv('data/realestate/아파트 실거래가격지수.csv',parse_dates=True) \n",
    "realprice.info()"
   ]
  },
  {
   "cell_type": "code",
   "execution_count": null,
   "metadata": {},
   "outputs": [],
   "source": [
    "change_datetime(realprice)"
   ]
  },
  {
   "cell_type": "code",
   "execution_count": null,
   "metadata": {},
   "outputs": [],
   "source": [
    "date_columnname(realprice)"
   ]
  },
  {
   "cell_type": "code",
   "execution_count": null,
   "metadata": {},
   "outputs": [],
   "source": [
    "typeprice=pd.read_csv('data/realestate/유형별_주택월세통합가격지수.csv',parse_dates=True) \n",
    "typeprice.info()"
   ]
  },
  {
   "cell_type": "code",
   "execution_count": null,
   "metadata": {},
   "outputs": [],
   "source": [
    "change_datetime(typeprice)"
   ]
  },
  {
   "cell_type": "code",
   "execution_count": null,
   "metadata": {},
   "outputs": [],
   "source": [
    "date_columnname(typeprice)"
   ]
  },
  {
   "cell_type": "code",
   "execution_count": null,
   "metadata": {},
   "outputs": [],
   "source": [
    "permit=pd.read_csv('data/realestate/주택건설인허가실적.csv',parse_dates=True) \n",
    "permit.info()"
   ]
  },
  {
   "cell_type": "code",
   "execution_count": null,
   "metadata": {},
   "outputs": [],
   "source": [
    "change_datetime(permit)"
   ]
  },
  {
   "cell_type": "code",
   "execution_count": null,
   "metadata": {},
   "outputs": [],
   "source": [
    "date_columnname(permit)"
   ]
  },
  {
   "cell_type": "code",
   "execution_count": null,
   "metadata": {},
   "outputs": [],
   "source": [
    "trading=pd.read_csv('data/realestate/주택매매가격지수(KB).csv',parse_dates=True)\n",
    "trading.info()"
   ]
  },
  {
   "cell_type": "code",
   "execution_count": null,
   "metadata": {},
   "outputs": [],
   "source": [
    "change_datetime(trading)"
   ]
  },
  {
   "cell_type": "code",
   "execution_count": null,
   "metadata": {},
   "outputs": [],
   "source": [
    "date_columnname(trading)"
   ]
  },
  {
   "cell_type": "code",
   "execution_count": null,
   "metadata": {},
   "outputs": [],
   "source": [
    "jeonse=pd.read_csv('data/realestate/주택전세가격지수(KB).csv',parse_dates=True) \n",
    "jeonse.info()"
   ]
  },
  {
   "cell_type": "code",
   "execution_count": null,
   "metadata": {},
   "outputs": [],
   "source": [
    "change_datetime(jeonse)"
   ]
  },
  {
   "cell_type": "code",
   "execution_count": null,
   "metadata": {},
   "outputs": [],
   "source": [
    "date_columnname(jeonse)"
   ]
  }
 ],
 "metadata": {
  "kernelspec": {
   "display_name": "Python 3",
   "language": "python",
   "name": "python3"
  },
  "language_info": {
   "codemirror_mode": {
    "name": "ipython",
    "version": 3
   },
   "file_extension": ".py",
   "mimetype": "text/x-python",
   "name": "python",
   "nbconvert_exporter": "python",
   "pygments_lexer": "ipython3",
   "version": "3.7.6"
  },
  "toc": {
   "base_numbering": 1,
   "nav_menu": {},
   "number_sections": true,
   "sideBar": true,
   "skip_h1_title": false,
   "title_cell": "Table of Contents",
   "title_sidebar": "Contents",
   "toc_cell": false,
   "toc_position": {},
   "toc_section_display": true,
   "toc_window_display": true
  }
 },
 "nbformat": 4,
 "nbformat_minor": 4
}
