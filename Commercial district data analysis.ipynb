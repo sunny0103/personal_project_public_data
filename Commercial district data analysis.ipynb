{
 "cells": [
  {
   "cell_type": "markdown",
   "metadata": {},
   "source": [
    "# Commercial district Information Analysis\n",
    "\n",
    "* What kind of small businesses are the most in Seoul?\n",
    "* Is there any distinctive difference among district?\n",
    "* How much change its survival rate after Covid19?"
   ]
  },
  {
   "cell_type": "markdown",
   "metadata": {},
   "source": [
    "## Get ready Jupyter "
   ]
  },
  {
   "cell_type": "code",
   "execution_count": 1,
   "metadata": {},
   "outputs": [],
   "source": [
    "import pandas as pd\n",
    "import numpy as np\n",
    "import seaborn as sns\n",
    "import matplotlib.pyplot as plt\n",
    "plt.rc('font',family='Malgun Gothic') # window 한글 폰트 설정\n",
    "plt.rc('axes',unicode_minus=False) # 한글폰트 인 경우 unicode가 깨지는 경우 발생하는것을 막기 위해 unicode_minus =False설정\n",
    "%matplotlib inline"
   ]
  },
  {
   "cell_type": "code",
   "execution_count": 34,
   "metadata": {},
   "outputs": [],
   "source": [
    "pd.set_option('display.max_rows', 500)\n",
    "pd.set_option('display.max_columns', 500)\n",
    "pd.set_option('display.width', 1000)\n",
    "pd.set_option('display.expand_frame_repr', False)"
   ]
  },
  {
   "cell_type": "markdown",
   "metadata": {},
   "source": [
    "## Data load"
   ]
  },
  {
   "cell_type": "code",
   "execution_count": 2,
   "metadata": {},
   "outputs": [
    {
     "data": {
      "text/html": [
       "<div>\n",
       "<style scoped>\n",
       "    .dataframe tbody tr th:only-of-type {\n",
       "        vertical-align: middle;\n",
       "    }\n",
       "\n",
       "    .dataframe tbody tr th {\n",
       "        vertical-align: top;\n",
       "    }\n",
       "\n",
       "    .dataframe thead th {\n",
       "        text-align: right;\n",
       "    }\n",
       "</style>\n",
       "<table border=\"1\" class=\"dataframe\">\n",
       "  <thead>\n",
       "    <tr style=\"text-align: right;\">\n",
       "      <th></th>\n",
       "      <th>상가업소번호</th>\n",
       "      <th>상호명</th>\n",
       "      <th>지점명</th>\n",
       "      <th>상권업종대분류코드</th>\n",
       "      <th>상권업종대분류명</th>\n",
       "      <th>상권업종중분류코드</th>\n",
       "      <th>상권업종중분류명</th>\n",
       "      <th>상권업종소분류코드</th>\n",
       "      <th>상권업종소분류명</th>\n",
       "      <th>표준산업분류코드</th>\n",
       "      <th>...</th>\n",
       "      <th>건물관리번호</th>\n",
       "      <th>건물명</th>\n",
       "      <th>도로명주소</th>\n",
       "      <th>구우편번호</th>\n",
       "      <th>신우편번호</th>\n",
       "      <th>동정보</th>\n",
       "      <th>층정보</th>\n",
       "      <th>호정보</th>\n",
       "      <th>경도</th>\n",
       "      <th>위도</th>\n",
       "    </tr>\n",
       "  </thead>\n",
       "  <tbody>\n",
       "    <tr>\n",
       "      <th>0</th>\n",
       "      <td>17163092</td>\n",
       "      <td>도전최강달인왕만두</td>\n",
       "      <td>NaN</td>\n",
       "      <td>Q</td>\n",
       "      <td>음식</td>\n",
       "      <td>Q01</td>\n",
       "      <td>한식</td>\n",
       "      <td>Q01A01</td>\n",
       "      <td>한식/백반/한정식</td>\n",
       "      <td>I56111</td>\n",
       "      <td>...</td>\n",
       "      <td>1174010200102170000018014</td>\n",
       "      <td>고덕그라시움</td>\n",
       "      <td>서울특별시 강동구 고덕로 333</td>\n",
       "      <td>134082</td>\n",
       "      <td>5224.0</td>\n",
       "      <td>NaN</td>\n",
       "      <td>NaN</td>\n",
       "      <td>NaN</td>\n",
       "      <td>127.159471</td>\n",
       "      <td>37.556197</td>\n",
       "    </tr>\n",
       "    <tr>\n",
       "      <th>1</th>\n",
       "      <td>17120456</td>\n",
       "      <td>이때</td>\n",
       "      <td>NaN</td>\n",
       "      <td>Q</td>\n",
       "      <td>음식</td>\n",
       "      <td>Q01</td>\n",
       "      <td>한식</td>\n",
       "      <td>Q01A01</td>\n",
       "      <td>한식/백반/한정식</td>\n",
       "      <td>I56111</td>\n",
       "      <td>...</td>\n",
       "      <td>1144012400103900067027687</td>\n",
       "      <td>NaN</td>\n",
       "      <td>서울특별시 마포구 동교로38안길 7</td>\n",
       "      <td>121867</td>\n",
       "      <td>3982.0</td>\n",
       "      <td>NaN</td>\n",
       "      <td>NaN</td>\n",
       "      <td>NaN</td>\n",
       "      <td>126.924660</td>\n",
       "      <td>37.562176</td>\n",
       "    </tr>\n",
       "    <tr>\n",
       "      <th>2</th>\n",
       "      <td>17175350</td>\n",
       "      <td>L.A.D</td>\n",
       "      <td>NaN</td>\n",
       "      <td>Q</td>\n",
       "      <td>음식</td>\n",
       "      <td>Q01</td>\n",
       "      <td>한식</td>\n",
       "      <td>Q01A01</td>\n",
       "      <td>한식/백반/한정식</td>\n",
       "      <td>I56111</td>\n",
       "      <td>...</td>\n",
       "      <td>1144012000103950112010755</td>\n",
       "      <td>NaN</td>\n",
       "      <td>서울특별시 마포구 잔다리로3안길 23</td>\n",
       "      <td>121840</td>\n",
       "      <td>4043.0</td>\n",
       "      <td>NaN</td>\n",
       "      <td>NaN</td>\n",
       "      <td>NaN</td>\n",
       "      <td>126.919845</td>\n",
       "      <td>37.550689</td>\n",
       "    </tr>\n",
       "    <tr>\n",
       "      <th>3</th>\n",
       "      <td>17175311</td>\n",
       "      <td>제이씨에스푸드</td>\n",
       "      <td>NaN</td>\n",
       "      <td>Q</td>\n",
       "      <td>음식</td>\n",
       "      <td>Q01</td>\n",
       "      <td>한식</td>\n",
       "      <td>Q01A01</td>\n",
       "      <td>한식/백반/한정식</td>\n",
       "      <td>I56111</td>\n",
       "      <td>...</td>\n",
       "      <td>1162010200101180033018722</td>\n",
       "      <td>NaN</td>\n",
       "      <td>서울특별시 관악구 신림로14길 3</td>\n",
       "      <td>151856</td>\n",
       "      <td>8839.0</td>\n",
       "      <td>NaN</td>\n",
       "      <td>NaN</td>\n",
       "      <td>NaN</td>\n",
       "      <td>126.937790</td>\n",
       "      <td>37.471190</td>\n",
       "    </tr>\n",
       "    <tr>\n",
       "      <th>4</th>\n",
       "      <td>22767534</td>\n",
       "      <td>BYC상신점</td>\n",
       "      <td>상신점</td>\n",
       "      <td>D</td>\n",
       "      <td>소매</td>\n",
       "      <td>D05</td>\n",
       "      <td>의복의류</td>\n",
       "      <td>D05A07</td>\n",
       "      <td>셔츠/내의/속옷</td>\n",
       "      <td>NaN</td>\n",
       "      <td>...</td>\n",
       "      <td>1171011300100360000022458</td>\n",
       "      <td>성암빌딩</td>\n",
       "      <td>서울특별시 송파구 오금로 527</td>\n",
       "      <td>138110</td>\n",
       "      <td>5768.0</td>\n",
       "      <td>NaN</td>\n",
       "      <td>1</td>\n",
       "      <td>NaN</td>\n",
       "      <td>127.147321</td>\n",
       "      <td>37.493054</td>\n",
       "    </tr>\n",
       "  </tbody>\n",
       "</table>\n",
       "<p>5 rows × 39 columns</p>\n",
       "</div>"
      ],
      "text/plain": [
       "     상가업소번호        상호명  지점명 상권업종대분류코드 상권업종대분류명 상권업종중분류코드 상권업종중분류명 상권업종소분류코드  \\\n",
       "0  17163092  도전최강달인왕만두  NaN         Q       음식       Q01       한식    Q01A01   \n",
       "1  17120456         이때  NaN         Q       음식       Q01       한식    Q01A01   \n",
       "2  17175350      L.A.D  NaN         Q       음식       Q01       한식    Q01A01   \n",
       "3  17175311    제이씨에스푸드  NaN         Q       음식       Q01       한식    Q01A01   \n",
       "4  22767534     BYC상신점  상신점         D       소매       D05     의복의류    D05A07   \n",
       "\n",
       "    상권업종소분류명 표준산업분류코드  ...                     건물관리번호     건물명  \\\n",
       "0  한식/백반/한정식   I56111  ...  1174010200102170000018014  고덕그라시움   \n",
       "1  한식/백반/한정식   I56111  ...  1144012400103900067027687     NaN   \n",
       "2  한식/백반/한정식   I56111  ...  1144012000103950112010755     NaN   \n",
       "3  한식/백반/한정식   I56111  ...  1162010200101180033018722     NaN   \n",
       "4   셔츠/내의/속옷      NaN  ...  1171011300100360000022458    성암빌딩   \n",
       "\n",
       "                  도로명주소   구우편번호   신우편번호  동정보  층정보  호정보          경도         위도  \n",
       "0     서울특별시 강동구 고덕로 333  134082  5224.0  NaN  NaN  NaN  127.159471  37.556197  \n",
       "1   서울특별시 마포구 동교로38안길 7  121867  3982.0  NaN  NaN  NaN  126.924660  37.562176  \n",
       "2  서울특별시 마포구 잔다리로3안길 23  121840  4043.0  NaN  NaN  NaN  126.919845  37.550689  \n",
       "3    서울특별시 관악구 신림로14길 3  151856  8839.0  NaN  NaN  NaN  126.937790  37.471190  \n",
       "4     서울특별시 송파구 오금로 527  138110  5768.0  NaN    1  NaN  127.147321  37.493054  \n",
       "\n",
       "[5 rows x 39 columns]"
      ]
     },
     "execution_count": 2,
     "metadata": {},
     "output_type": "execute_result"
    }
   ],
   "source": [
    "df=pd.read_csv('data/소상공인시장진흥공단_상가(상권)정보_서울_202012.csv',sep='|')\n",
    "df.head()"
   ]
  },
  {
   "cell_type": "code",
   "execution_count": 3,
   "metadata": {},
   "outputs": [
    {
     "data": {
      "text/plain": [
       "(346577, 39)"
      ]
     },
     "execution_count": 3,
     "metadata": {},
     "output_type": "execute_result"
    }
   ],
   "source": [
    "df.shape"
   ]
  },
  {
   "cell_type": "code",
   "execution_count": 4,
   "metadata": {},
   "outputs": [
    {
     "name": "stdout",
     "output_type": "stream",
     "text": [
      "<class 'pandas.core.frame.DataFrame'>\n",
      "RangeIndex: 346577 entries, 0 to 346576\n",
      "Data columns (total 39 columns):\n",
      " #   Column     Non-Null Count   Dtype  \n",
      "---  ------     --------------   -----  \n",
      " 0   상가업소번호     346577 non-null  int64  \n",
      " 1   상호명        346576 non-null  object \n",
      " 2   지점명        58969 non-null   object \n",
      " 3   상권업종대분류코드  346577 non-null  object \n",
      " 4   상권업종대분류명   346577 non-null  object \n",
      " 5   상권업종중분류코드  346577 non-null  object \n",
      " 6   상권업종중분류명   346577 non-null  object \n",
      " 7   상권업종소분류코드  346577 non-null  object \n",
      " 8   상권업종소분류명   346577 non-null  object \n",
      " 9   표준산업분류코드   326327 non-null  object \n",
      " 10  표준산업분류명    326327 non-null  object \n",
      " 11  시도코드       346577 non-null  int64  \n",
      " 12  시도명        346577 non-null  object \n",
      " 13  시군구코드      346577 non-null  int64  \n",
      " 14  시군구명       346577 non-null  object \n",
      " 15  행정동코드      346577 non-null  int64  \n",
      " 16  행정동명       346442 non-null  object \n",
      " 17  법정동코드      346577 non-null  int64  \n",
      " 18  법정동명       346577 non-null  object \n",
      " 19  지번코드       346577 non-null  int64  \n",
      " 20  대지구분코드     346577 non-null  int64  \n",
      " 21  대지구분명      346577 non-null  object \n",
      " 22  지번본번지      346577 non-null  int64  \n",
      " 23  지번부번지      278754 non-null  float64\n",
      " 24  지번주소       346577 non-null  object \n",
      " 25  도로명코드      346577 non-null  int64  \n",
      " 26  도로명        346577 non-null  object \n",
      " 27  건물본번지      346577 non-null  int64  \n",
      " 28  건물부번지      41957 non-null   float64\n",
      " 29  건물관리번호     346577 non-null  object \n",
      " 30  건물명        166570 non-null  object \n",
      " 31  도로명주소      346577 non-null  object \n",
      " 32  구우편번호      346577 non-null  int64  \n",
      " 33  신우편번호      346575 non-null  float64\n",
      " 34  동정보        27395 non-null   object \n",
      " 35  층정보        216374 non-null  object \n",
      " 36  호정보        55894 non-null   object \n",
      " 37  경도         346577 non-null  float64\n",
      " 38  위도         346577 non-null  float64\n",
      "dtypes: float64(5), int64(11), object(23)\n",
      "memory usage: 103.1+ MB\n"
     ]
    }
   ],
   "source": [
    "df.info()"
   ]
  },
  {
   "cell_type": "markdown",
   "metadata": {},
   "source": [
    "## Missing Data"
   ]
  },
  {
   "cell_type": "markdown",
   "metadata": {},
   "source": [
    "<div class=\"alert alert-block alert-warning\">\n",
    "<b>Check:</b> Checking missing values and manipulating data.\n",
    "</div>"
   ]
  },
  {
   "cell_type": "code",
   "execution_count": 5,
   "metadata": {},
   "outputs": [
    {
     "data": {
      "text/plain": [
       "상가업소번호            0\n",
       "상호명               1\n",
       "지점명          287608\n",
       "상권업종대분류코드         0\n",
       "상권업종대분류명          0\n",
       "상권업종중분류코드         0\n",
       "상권업종중분류명          0\n",
       "상권업종소분류코드         0\n",
       "상권업종소분류명          0\n",
       "표준산업분류코드      20250\n",
       "표준산업분류명       20250\n",
       "시도코드              0\n",
       "시도명               0\n",
       "시군구코드             0\n",
       "시군구명              0\n",
       "행정동코드             0\n",
       "행정동명            135\n",
       "법정동코드             0\n",
       "법정동명              0\n",
       "지번코드              0\n",
       "대지구분코드            0\n",
       "대지구분명             0\n",
       "지번본번지             0\n",
       "지번부번지         67823\n",
       "지번주소              0\n",
       "도로명코드             0\n",
       "도로명               0\n",
       "건물본번지             0\n",
       "건물부번지        304620\n",
       "건물관리번호            0\n",
       "건물명          180007\n",
       "도로명주소             0\n",
       "구우편번호             0\n",
       "신우편번호             2\n",
       "동정보          319182\n",
       "층정보          130203\n",
       "호정보          290683\n",
       "경도                0\n",
       "위도                0\n",
       "dtype: int64"
      ]
     },
     "execution_count": 5,
     "metadata": {},
     "output_type": "execute_result"
    }
   ],
   "source": [
    "df.isnull().sum()"
   ]
  },
  {
   "cell_type": "code",
   "execution_count": 6,
   "metadata": {},
   "outputs": [
    {
     "data": {
      "text/plain": [
       "상가업소번호        0.0\n",
       "상호명           0.0\n",
       "지점명          83.0\n",
       "상권업종대분류코드     0.0\n",
       "상권업종대분류명      0.0\n",
       "상권업종중분류코드     0.0\n",
       "상권업종중분류명      0.0\n",
       "상권업종소분류코드     0.0\n",
       "상권업종소분류명      0.0\n",
       "표준산업분류코드      6.0\n",
       "표준산업분류명       6.0\n",
       "시도코드          0.0\n",
       "시도명           0.0\n",
       "시군구코드         0.0\n",
       "시군구명          0.0\n",
       "행정동코드         0.0\n",
       "행정동명          0.0\n",
       "법정동코드         0.0\n",
       "법정동명          0.0\n",
       "지번코드          0.0\n",
       "대지구분코드        0.0\n",
       "대지구분명         0.0\n",
       "지번본번지         0.0\n",
       "지번부번지        20.0\n",
       "지번주소          0.0\n",
       "도로명코드         0.0\n",
       "도로명           0.0\n",
       "건물본번지         0.0\n",
       "건물부번지        88.0\n",
       "건물관리번호        0.0\n",
       "건물명          52.0\n",
       "도로명주소         0.0\n",
       "구우편번호         0.0\n",
       "신우편번호         0.0\n",
       "동정보          92.0\n",
       "층정보          38.0\n",
       "호정보          84.0\n",
       "경도            0.0\n",
       "위도            0.0\n",
       "dtype: float64"
      ]
     },
     "execution_count": 6,
     "metadata": {},
     "output_type": "execute_result"
    }
   ],
   "source": [
    "temp=round(df.isnull().sum()/df.shape[0],2)*100\n",
    "temp"
   ]
  },
  {
   "cell_type": "code",
   "execution_count": 7,
   "metadata": {
    "scrolled": true
   },
   "outputs": [
    {
     "data": {
      "text/plain": [
       "<matplotlib.axes._subplots.AxesSubplot at 0x1d09f769388>"
      ]
     },
     "execution_count": 7,
     "metadata": {},
     "output_type": "execute_result"
    },
    {
     "data": {
      "image/png": "[encoded data removed]",
      "text/plain": [
       "<Figure size 864x720 with 1 Axes>"
      ]
     },
     "metadata": {
      "needs_background": "light"
     },
     "output_type": "display_data"
    }
   ],
   "source": [
    "df.isnull().sum().plot.barh(figsize=(12,10))"
   ]
  },
  {
   "cell_type": "markdown",
   "metadata": {},
   "source": [
    "<div class=\"alert alert-block alert-warning\">\n",
    "<b>check:</b> <br> I have checked which columns have missing values and Those which have missing values are information related to store location. But we can pin point it location by other columns (latitude and longitude). Therefore I set the limit 40 percent to reshape the data.\n",
    "</div>"
   ]
  },
  {
   "cell_type": "code",
   "execution_count": 8,
   "metadata": {},
   "outputs": [
    {
     "data": {
      "text/plain": [
       "(346577, 34)"
      ]
     },
     "execution_count": 8,
     "metadata": {},
     "output_type": "execute_result"
    }
   ],
   "source": [
    "df=df[temp[temp.values<40].index]\n",
    "df.shape"
   ]
  },
  {
   "cell_type": "markdown",
   "metadata": {},
   "source": [
    "<div class=\"alert alert-block alert-info\">\n",
    "<b>Insight:</b> <br> the data shape decreased 39 columns to 34 columns. It removed 5 columns.\n",
    "</div>"
   ]
  },
  {
   "cell_type": "markdown",
   "metadata": {},
   "source": [
    "## Change column names into English"
   ]
  },
  {
   "cell_type": "code",
   "execution_count": 9,
   "metadata": {},
   "outputs": [
    {
     "data": {
      "text/plain": [
       "Index(['상가업소번호', '상호명', '상권업종대분류코드', '상권업종대분류명', '상권업종중분류코드', '상권업종중분류명',\n",
       "       '상권업종소분류코드', '상권업종소분류명', '표준산업분류코드', '표준산업분류명', '시도코드', '시도명', '시군구코드',\n",
       "       '시군구명', '행정동코드', '행정동명', '법정동코드', '법정동명', '지번코드', '대지구분코드', '대지구분명',\n",
       "       '지번본번지', '지번부번지', '지번주소', '도로명코드', '도로명', '건물본번지', '건물관리번호', '도로명주소',\n",
       "       '구우편번호', '신우편번호', '층정보', '경도', '위도'],\n",
       "      dtype='object')"
      ]
     },
     "execution_count": 9,
     "metadata": {},
     "output_type": "execute_result"
    }
   ],
   "source": [
    "df.columns"
   ]
  },
  {
   "cell_type": "markdown",
   "metadata": {},
   "source": [
    "<div class=\"alert alert-block alert-warning\">\n",
    "<b>check:</b> <br> The data are retreived from Korean public data. Therefore column names and values are written in Korean. I will change column names to English.\n",
    "</div>"
   ]
  },
  {
   "cell_type": "code",
   "execution_count": 10,
   "metadata": {},
   "outputs": [
    {
     "data": {
      "text/plain": [
       "Index(['Biz num', 'name', 'B_class code', 'B_class name', 'M_class code',\n",
       "       'M_class name', 'S_class code', 'S_class name', 'standard biz code',\n",
       "       'standard biz name', 'city code', 'city name', 'district code',\n",
       "       'district name', 'admin code', 'admin name', 'area code', 'admin name',\n",
       "       'land code', 'land_dist code', 'land name', 'land num1', 'land num2',\n",
       "       'land address', 'street  code', 'street name', 'building num',\n",
       "       'B_maintain num', 'street address', 'old postalcode', 'new postalcode',\n",
       "       'floor info', 'longitude', 'latitude'],\n",
       "      dtype='object')"
      ]
     },
     "execution_count": 10,
     "metadata": {},
     "output_type": "execute_result"
    }
   ],
   "source": [
    "df=df.rename({'상가업소번호':'Biz num','상호명':'name','상권업종대분류코드':'B_class code','상권업종대분류명':'B_class name',\n",
    "           '상권업종중분류코드':'M_class code','상권업종중분류명':'M_class name','상권업종소분류코드':'S_class code',\n",
    "            '상권업종소분류명':'S_class name','표준산업분류코드':'standard biz code','표준산업분류명':'standard biz name',\n",
    "           '시도코드':'city code','시도명':'city name','시군구코드':'district code','시군구명':'district name',\n",
    "            '행정동코드':'admin code','법정동명':'admin name','지번코드':'land code','대지구분코드':'land_dist code',\n",
    "           '대지구분명':'land name','지번본번지':'land num1', '지번부번지':'land num2', '지번주소':'land address',\n",
    "            '도로명코드':'street  code', '도로명':'street name', '건물본번지':'building num', '건물관리번호':'B_maintain num', \n",
    "            '도로명주소':'street address','구우편번호':'old postalcode','신우편번호':'new postalcode',\n",
    "            '층정보':'floor info','경도':'longitude','위도':'latitude','행정동명':'admin name','법정동코드':'area code'},axis='columns')\n",
    "df.columns    "
   ]
  },
  {
   "cell_type": "markdown",
   "metadata": {},
   "source": [
    "<div class=\"alert alert-block alert-info\">\n",
    "<b>Insight:</b> \n",
    "    <p>Changed column names meaning:</p>\n",
    "        <ul>\n",
    "            <li>'상가업소번호':'Biz num'(Business number)</li>\n",
    "            <li>'상호명':'name'(Small business name) </li>\n",
    "            <li>'상권업종대분류코드':'B_class code'(Large classification code)</li>\n",
    "            <li>'상권업종대분류명':'B_class name'(Large classification name)</li>\n",
    "            <li>'상권업종중분류코드':'M_class code'(Medium classification code)</li>\n",
    "            <li>'상권업종중분류명':'M_class name'(Medium classification name)</li>\n",
    "            <li>'상권업종소분류코드':'S_class code'(Small classification code)</li>\n",
    "            <li>'상권업종소분류명':'S_class name'(Small classification name)</li>\n",
    "            <li>'표준산업분류코드':'standard biz code'(Starndard business classification code)</li>\n",
    "            <li>'표준산업분류명':'standard biz name'(Standard business classification name)</li>\n",
    "            <li>'시도코드':'city code'(City code)</li>\n",
    "            <li>'시도명':'city name'(City name)</li>\n",
    "            <li>'시군구코드':'district code'(District code)</li>\n",
    "            <li>'시군구명':'district name'(District name)</li>\n",
    "            <li>'행정동코드':'admin code'(Administration code)</li>\n",
    "            <li>'법정동명':'admin name'(Administration name)</li>\n",
    "            <li>'지번코드':'land code'(Land code)</li>\n",
    "            <li>'대지구분코드':'land_dist code'(Land distinguish code)</li>\n",
    "            <li>'대지구분명':'land name'(Land name)</li>\n",
    "            <li>'지번본번지':'land num1'(Land number 1)</li>\n",
    "            <li>'지번부번지':'land num2'(Land number 2)</li>\n",
    "            <li>'지번주소':'land address'(Land address)</li>\n",
    "            <li>'도로명코드':'street  code'(Street code)</li>\n",
    "            <li>'도로명':'street name'(Street name)</li>\n",
    "            <li>'건물본번지':'building num'(Buiding number)</li>\n",
    "            <li>'건물관리번호':'B_maintain num'(Buiding maitenence number)</li>\n",
    "            <li>'도로명주소':'street address'(Street address)</li>\n",
    "            <li>'구우편번호':'old postalcode'(Old Postal code)</li>\n",
    "            <li>'신우편번호':'new postalcode'(New Postal code)</li>\n",
    "            <li>'층정보':'floor info'(Building Floor information)</li>\n",
    "            <li>'경도':'longitude'(Longitude)</li>\n",
    "            <li>'위도':'latitude'(Latitude)</li>\n",
    "            <li>'행정동명':'admin name'(Administration name)</li>\n",
    "            <li>'법정동코드':'area code'(Area code)</li> \n",
    "</div>\n"
   ]
  },
  {
   "cell_type": "markdown",
   "metadata": {},
   "source": [
    "## Data Analysis"
   ]
  },
  {
   "cell_type": "code",
   "execution_count": 11,
   "metadata": {},
   "outputs": [
    {
     "data": {
      "text/html": [
       "<div>\n",
       "<style scoped>\n",
       "    .dataframe tbody tr th:only-of-type {\n",
       "        vertical-align: middle;\n",
       "    }\n",
       "\n",
       "    .dataframe tbody tr th {\n",
       "        vertical-align: top;\n",
       "    }\n",
       "\n",
       "    .dataframe thead th {\n",
       "        text-align: right;\n",
       "    }\n",
       "</style>\n",
       "<table border=\"1\" class=\"dataframe\">\n",
       "  <thead>\n",
       "    <tr style=\"text-align: right;\">\n",
       "      <th></th>\n",
       "      <th>Biz num</th>\n",
       "      <th>city code</th>\n",
       "      <th>district code</th>\n",
       "      <th>admin code</th>\n",
       "      <th>area code</th>\n",
       "      <th>land code</th>\n",
       "      <th>land_dist code</th>\n",
       "      <th>land num1</th>\n",
       "      <th>land num2</th>\n",
       "      <th>street  code</th>\n",
       "      <th>building num</th>\n",
       "      <th>old postalcode</th>\n",
       "      <th>new postalcode</th>\n",
       "      <th>longitude</th>\n",
       "      <th>latitude</th>\n",
       "    </tr>\n",
       "  </thead>\n",
       "  <tbody>\n",
       "    <tr>\n",
       "      <th>count</th>\n",
       "      <td>3.465770e+05</td>\n",
       "      <td>346577.0</td>\n",
       "      <td>346577.000000</td>\n",
       "      <td>3.465770e+05</td>\n",
       "      <td>3.465770e+05</td>\n",
       "      <td>3.465770e+05</td>\n",
       "      <td>346577.000000</td>\n",
       "      <td>346577.000000</td>\n",
       "      <td>278754.000000</td>\n",
       "      <td>3.465770e+05</td>\n",
       "      <td>346577.000000</td>\n",
       "      <td>346577.000000</td>\n",
       "      <td>346575.000000</td>\n",
       "      <td>346577.000000</td>\n",
       "      <td>346577.000000</td>\n",
       "    </tr>\n",
       "    <tr>\n",
       "      <th>mean</th>\n",
       "      <td>1.973555e+07</td>\n",
       "      <td>11.0</td>\n",
       "      <td>11446.338288</td>\n",
       "      <td>1.144696e+09</td>\n",
       "      <td>1.144645e+09</td>\n",
       "      <td>1.144646e+18</td>\n",
       "      <td>1.001085</td>\n",
       "      <td>413.207521</td>\n",
       "      <td>35.631259</td>\n",
       "      <td>1.144670e+11</td>\n",
       "      <td>147.416193</td>\n",
       "      <td>136651.104721</td>\n",
       "      <td>5201.955707</td>\n",
       "      <td>126.995568</td>\n",
       "      <td>37.544837</td>\n",
       "    </tr>\n",
       "    <tr>\n",
       "      <th>std</th>\n",
       "      <td>4.982442e+06</td>\n",
       "      <td>0.0</td>\n",
       "      <td>198.861055</td>\n",
       "      <td>1.988480e+07</td>\n",
       "      <td>1.988540e+07</td>\n",
       "      <td>1.988549e+16</td>\n",
       "      <td>0.032920</td>\n",
       "      <td>418.299461</td>\n",
       "      <td>110.393699</td>\n",
       "      <td>1.988617e+09</td>\n",
       "      <td>273.157704</td>\n",
       "      <td>14193.822627</td>\n",
       "      <td>2123.262500</td>\n",
       "      <td>0.082468</td>\n",
       "      <td>0.048671</td>\n",
       "    </tr>\n",
       "    <tr>\n",
       "      <th>min</th>\n",
       "      <td>2.895210e+06</td>\n",
       "      <td>11.0</td>\n",
       "      <td>11110.000000</td>\n",
       "      <td>1.111052e+09</td>\n",
       "      <td>1.111010e+09</td>\n",
       "      <td>1.111010e+18</td>\n",
       "      <td>1.000000</td>\n",
       "      <td>1.000000</td>\n",
       "      <td>1.000000</td>\n",
       "      <td>1.111020e+11</td>\n",
       "      <td>0.000000</td>\n",
       "      <td>100011.000000</td>\n",
       "      <td>1000.000000</td>\n",
       "      <td>126.768169</td>\n",
       "      <td>37.434081</td>\n",
       "    </tr>\n",
       "    <tr>\n",
       "      <th>25%</th>\n",
       "      <td>1.625134e+07</td>\n",
       "      <td>11.0</td>\n",
       "      <td>11260.000000</td>\n",
       "      <td>1.126059e+09</td>\n",
       "      <td>1.126010e+09</td>\n",
       "      <td>1.126010e+18</td>\n",
       "      <td>1.000000</td>\n",
       "      <td>96.000000</td>\n",
       "      <td>4.000000</td>\n",
       "      <td>1.126031e+11</td>\n",
       "      <td>19.000000</td>\n",
       "      <td>131220.000000</td>\n",
       "      <td>3450.000000</td>\n",
       "      <td>126.925046</td>\n",
       "      <td>37.505075</td>\n",
       "    </tr>\n",
       "    <tr>\n",
       "      <th>50%</th>\n",
       "      <td>2.025360e+07</td>\n",
       "      <td>11.0</td>\n",
       "      <td>11470.000000</td>\n",
       "      <td>1.147055e+09</td>\n",
       "      <td>1.147010e+09</td>\n",
       "      <td>1.147010e+18</td>\n",
       "      <td>1.000000</td>\n",
       "      <td>293.000000</td>\n",
       "      <td>11.000000</td>\n",
       "      <td>1.147031e+11</td>\n",
       "      <td>48.000000</td>\n",
       "      <td>136865.000000</td>\n",
       "      <td>5277.000000</td>\n",
       "      <td>127.011197</td>\n",
       "      <td>37.541273</td>\n",
       "    </tr>\n",
       "    <tr>\n",
       "      <th>75%</th>\n",
       "      <td>2.444549e+07</td>\n",
       "      <td>11.0</td>\n",
       "      <td>11650.000000</td>\n",
       "      <td>1.165053e+09</td>\n",
       "      <td>1.165010e+09</td>\n",
       "      <td>1.165010e+18</td>\n",
       "      <td>1.000000</td>\n",
       "      <td>635.000000</td>\n",
       "      <td>28.000000</td>\n",
       "      <td>1.165031e+11</td>\n",
       "      <td>167.000000</td>\n",
       "      <td>143926.000000</td>\n",
       "      <td>6805.000000</td>\n",
       "      <td>127.057350</td>\n",
       "      <td>37.572212</td>\n",
       "    </tr>\n",
       "    <tr>\n",
       "      <th>max</th>\n",
       "      <td>2.852486e+07</td>\n",
       "      <td>11.0</td>\n",
       "      <td>11740.000000</td>\n",
       "      <td>1.174070e+09</td>\n",
       "      <td>1.174011e+09</td>\n",
       "      <td>1.174070e+18</td>\n",
       "      <td>2.000000</td>\n",
       "      <td>9999.000000</td>\n",
       "      <td>9992.000000</td>\n",
       "      <td>1.174049e+11</td>\n",
       "      <td>3318.000000</td>\n",
       "      <td>158885.000000</td>\n",
       "      <td>8866.000000</td>\n",
       "      <td>127.182588</td>\n",
       "      <td>37.690787</td>\n",
       "    </tr>\n",
       "  </tbody>\n",
       "</table>\n",
       "</div>"
      ],
      "text/plain": [
       "            Biz num  city code  district code    admin code     area code  \\\n",
       "count  3.465770e+05   346577.0  346577.000000  3.465770e+05  3.465770e+05   \n",
       "mean   1.973555e+07       11.0   11446.338288  1.144696e+09  1.144645e+09   \n",
       "std    4.982442e+06        0.0     198.861055  1.988480e+07  1.988540e+07   \n",
       "min    2.895210e+06       11.0   11110.000000  1.111052e+09  1.111010e+09   \n",
       "25%    1.625134e+07       11.0   11260.000000  1.126059e+09  1.126010e+09   \n",
       "50%    2.025360e+07       11.0   11470.000000  1.147055e+09  1.147010e+09   \n",
       "75%    2.444549e+07       11.0   11650.000000  1.165053e+09  1.165010e+09   \n",
       "max    2.852486e+07       11.0   11740.000000  1.174070e+09  1.174011e+09   \n",
       "\n",
       "          land code  land_dist code      land num1      land num2  \\\n",
       "count  3.465770e+05   346577.000000  346577.000000  278754.000000   \n",
       "mean   1.144646e+18        1.001085     413.207521      35.631259   \n",
       "std    1.988549e+16        0.032920     418.299461     110.393699   \n",
       "min    1.111010e+18        1.000000       1.000000       1.000000   \n",
       "25%    1.126010e+18        1.000000      96.000000       4.000000   \n",
       "50%    1.147010e+18        1.000000     293.000000      11.000000   \n",
       "75%    1.165010e+18        1.000000     635.000000      28.000000   \n",
       "max    1.174070e+18        2.000000    9999.000000    9992.000000   \n",
       "\n",
       "       street  code   building num  old postalcode  new postalcode  \\\n",
       "count  3.465770e+05  346577.000000   346577.000000   346575.000000   \n",
       "mean   1.144670e+11     147.416193   136651.104721     5201.955707   \n",
       "std    1.988617e+09     273.157704    14193.822627     2123.262500   \n",
       "min    1.111020e+11       0.000000   100011.000000     1000.000000   \n",
       "25%    1.126031e+11      19.000000   131220.000000     3450.000000   \n",
       "50%    1.147031e+11      48.000000   136865.000000     5277.000000   \n",
       "75%    1.165031e+11     167.000000   143926.000000     6805.000000   \n",
       "max    1.174049e+11    3318.000000   158885.000000     8866.000000   \n",
       "\n",
       "           longitude       latitude  \n",
       "count  346577.000000  346577.000000  \n",
       "mean      126.995568      37.544837  \n",
       "std         0.082468       0.048671  \n",
       "min       126.768169      37.434081  \n",
       "25%       126.925046      37.505075  \n",
       "50%       127.011197      37.541273  \n",
       "75%       127.057350      37.572212  \n",
       "max       127.182588      37.690787  "
      ]
     },
     "execution_count": 11,
     "metadata": {},
     "output_type": "execute_result"
    }
   ],
   "source": [
    "df.describe()"
   ]
  },
  {
   "cell_type": "code",
   "execution_count": 12,
   "metadata": {},
   "outputs": [
    {
     "data": {
      "text/html": [
       "<div>\n",
       "<style scoped>\n",
       "    .dataframe tbody tr th:only-of-type {\n",
       "        vertical-align: middle;\n",
       "    }\n",
       "\n",
       "    .dataframe tbody tr th {\n",
       "        vertical-align: top;\n",
       "    }\n",
       "\n",
       "    .dataframe thead th {\n",
       "        text-align: right;\n",
       "    }\n",
       "</style>\n",
       "<table border=\"1\" class=\"dataframe\">\n",
       "  <thead>\n",
       "    <tr style=\"text-align: right;\">\n",
       "      <th></th>\n",
       "      <th>Biz num</th>\n",
       "      <th>name</th>\n",
       "      <th>B_class code</th>\n",
       "      <th>B_class name</th>\n",
       "      <th>M_class code</th>\n",
       "      <th>M_class name</th>\n",
       "      <th>S_class code</th>\n",
       "      <th>S_class name</th>\n",
       "      <th>standard biz code</th>\n",
       "      <th>standard biz name</th>\n",
       "      <th>...</th>\n",
       "      <th>street  code</th>\n",
       "      <th>street name</th>\n",
       "      <th>building num</th>\n",
       "      <th>B_maintain num</th>\n",
       "      <th>street address</th>\n",
       "      <th>old postalcode</th>\n",
       "      <th>new postalcode</th>\n",
       "      <th>floor info</th>\n",
       "      <th>longitude</th>\n",
       "      <th>latitude</th>\n",
       "    </tr>\n",
       "  </thead>\n",
       "  <tbody>\n",
       "    <tr>\n",
       "      <th>0</th>\n",
       "      <td>17163092</td>\n",
       "      <td>도전최강달인왕만두</td>\n",
       "      <td>Q</td>\n",
       "      <td>음식</td>\n",
       "      <td>Q01</td>\n",
       "      <td>한식</td>\n",
       "      <td>Q01A01</td>\n",
       "      <td>한식/백반/한정식</td>\n",
       "      <td>I56111</td>\n",
       "      <td>한식 음식점업</td>\n",
       "      <td>...</td>\n",
       "      <td>117403124001</td>\n",
       "      <td>서울특별시 강동구 고덕로</td>\n",
       "      <td>333</td>\n",
       "      <td>1174010200102170000018014</td>\n",
       "      <td>서울특별시 강동구 고덕로 333</td>\n",
       "      <td>134082</td>\n",
       "      <td>5224.0</td>\n",
       "      <td>NaN</td>\n",
       "      <td>127.159471</td>\n",
       "      <td>37.556197</td>\n",
       "    </tr>\n",
       "    <tr>\n",
       "      <th>1</th>\n",
       "      <td>17120456</td>\n",
       "      <td>이때</td>\n",
       "      <td>Q</td>\n",
       "      <td>음식</td>\n",
       "      <td>Q01</td>\n",
       "      <td>한식</td>\n",
       "      <td>Q01A01</td>\n",
       "      <td>한식/백반/한정식</td>\n",
       "      <td>I56111</td>\n",
       "      <td>한식 음식점업</td>\n",
       "      <td>...</td>\n",
       "      <td>114404139119</td>\n",
       "      <td>서울특별시 마포구 동교로38안길</td>\n",
       "      <td>7</td>\n",
       "      <td>1144012400103900067027687</td>\n",
       "      <td>서울특별시 마포구 동교로38안길 7</td>\n",
       "      <td>121867</td>\n",
       "      <td>3982.0</td>\n",
       "      <td>NaN</td>\n",
       "      <td>126.924660</td>\n",
       "      <td>37.562176</td>\n",
       "    </tr>\n",
       "    <tr>\n",
       "      <th>2</th>\n",
       "      <td>17175350</td>\n",
       "      <td>L.A.D</td>\n",
       "      <td>Q</td>\n",
       "      <td>음식</td>\n",
       "      <td>Q01</td>\n",
       "      <td>한식</td>\n",
       "      <td>Q01A01</td>\n",
       "      <td>한식/백반/한정식</td>\n",
       "      <td>I56111</td>\n",
       "      <td>한식 음식점업</td>\n",
       "      <td>...</td>\n",
       "      <td>114404139571</td>\n",
       "      <td>서울특별시 마포구 잔다리로3안길</td>\n",
       "      <td>23</td>\n",
       "      <td>1144012000103950112010755</td>\n",
       "      <td>서울특별시 마포구 잔다리로3안길 23</td>\n",
       "      <td>121840</td>\n",
       "      <td>4043.0</td>\n",
       "      <td>NaN</td>\n",
       "      <td>126.919845</td>\n",
       "      <td>37.550689</td>\n",
       "    </tr>\n",
       "    <tr>\n",
       "      <th>3</th>\n",
       "      <td>17175311</td>\n",
       "      <td>제이씨에스푸드</td>\n",
       "      <td>Q</td>\n",
       "      <td>음식</td>\n",
       "      <td>Q01</td>\n",
       "      <td>한식</td>\n",
       "      <td>Q01A01</td>\n",
       "      <td>한식/백반/한정식</td>\n",
       "      <td>I56111</td>\n",
       "      <td>한식 음식점업</td>\n",
       "      <td>...</td>\n",
       "      <td>116204160502</td>\n",
       "      <td>서울특별시 관악구 신림로14길</td>\n",
       "      <td>3</td>\n",
       "      <td>1162010200101180033018722</td>\n",
       "      <td>서울특별시 관악구 신림로14길 3</td>\n",
       "      <td>151856</td>\n",
       "      <td>8839.0</td>\n",
       "      <td>NaN</td>\n",
       "      <td>126.937790</td>\n",
       "      <td>37.471190</td>\n",
       "    </tr>\n",
       "    <tr>\n",
       "      <th>4</th>\n",
       "      <td>22767534</td>\n",
       "      <td>BYC상신점</td>\n",
       "      <td>D</td>\n",
       "      <td>소매</td>\n",
       "      <td>D05</td>\n",
       "      <td>의복의류</td>\n",
       "      <td>D05A07</td>\n",
       "      <td>셔츠/내의/속옷</td>\n",
       "      <td>NaN</td>\n",
       "      <td>NaN</td>\n",
       "      <td>...</td>\n",
       "      <td>117103123014</td>\n",
       "      <td>서울특별시 송파구 오금로</td>\n",
       "      <td>527</td>\n",
       "      <td>1171011300100360000022458</td>\n",
       "      <td>서울특별시 송파구 오금로 527</td>\n",
       "      <td>138110</td>\n",
       "      <td>5768.0</td>\n",
       "      <td>1</td>\n",
       "      <td>127.147321</td>\n",
       "      <td>37.493054</td>\n",
       "    </tr>\n",
       "  </tbody>\n",
       "</table>\n",
       "<p>5 rows × 34 columns</p>\n",
       "</div>"
      ],
      "text/plain": [
       "    Biz num       name B_class code B_class name M_class code M_class name  \\\n",
       "0  17163092  도전최강달인왕만두            Q           음식          Q01           한식   \n",
       "1  17120456         이때            Q           음식          Q01           한식   \n",
       "2  17175350      L.A.D            Q           음식          Q01           한식   \n",
       "3  17175311    제이씨에스푸드            Q           음식          Q01           한식   \n",
       "4  22767534     BYC상신점            D           소매          D05         의복의류   \n",
       "\n",
       "  S_class code S_class name standard biz code standard biz name  ...  \\\n",
       "0       Q01A01    한식/백반/한정식            I56111           한식 음식점업  ...   \n",
       "1       Q01A01    한식/백반/한정식            I56111           한식 음식점업  ...   \n",
       "2       Q01A01    한식/백반/한정식            I56111           한식 음식점업  ...   \n",
       "3       Q01A01    한식/백반/한정식            I56111           한식 음식점업  ...   \n",
       "4       D05A07     셔츠/내의/속옷               NaN               NaN  ...   \n",
       "\n",
       "   street  code        street name  building num             B_maintain num  \\\n",
       "0  117403124001      서울특별시 강동구 고덕로           333  1174010200102170000018014   \n",
       "1  114404139119  서울특별시 마포구 동교로38안길             7  1144012400103900067027687   \n",
       "2  114404139571  서울특별시 마포구 잔다리로3안길            23  1144012000103950112010755   \n",
       "3  116204160502   서울특별시 관악구 신림로14길             3  1162010200101180033018722   \n",
       "4  117103123014      서울특별시 송파구 오금로           527  1171011300100360000022458   \n",
       "\n",
       "         street address old postalcode  new postalcode floor info   longitude  \\\n",
       "0     서울특별시 강동구 고덕로 333         134082          5224.0        NaN  127.159471   \n",
       "1   서울특별시 마포구 동교로38안길 7         121867          3982.0        NaN  126.924660   \n",
       "2  서울특별시 마포구 잔다리로3안길 23         121840          4043.0        NaN  126.919845   \n",
       "3    서울특별시 관악구 신림로14길 3         151856          8839.0        NaN  126.937790   \n",
       "4     서울특별시 송파구 오금로 527         138110          5768.0          1  127.147321   \n",
       "\n",
       "    latitude  \n",
       "0  37.556197  \n",
       "1  37.562176  \n",
       "2  37.550689  \n",
       "3  37.471190  \n",
       "4  37.493054  \n",
       "\n",
       "[5 rows x 34 columns]"
      ]
     },
     "execution_count": 12,
     "metadata": {},
     "output_type": "execute_result"
    }
   ],
   "source": [
    "df.head()"
   ]
  },
  {
   "cell_type": "code",
   "execution_count": 13,
   "metadata": {},
   "outputs": [
    {
     "data": {
      "text/plain": [
       "array(['음식', '소매', '학문/교육', '생활서비스', '부동산', '관광/여가/오락', '숙박', '스포츠'],\n",
       "      dtype=object)"
      ]
     },
     "execution_count": 13,
     "metadata": {},
     "output_type": "execute_result"
    }
   ],
   "source": [
    "df['B_class name'].unique()"
   ]
  },
  {
   "cell_type": "code",
   "execution_count": 14,
   "metadata": {},
   "outputs": [
    {
     "data": {
      "text/plain": [
       "8"
      ]
     },
     "execution_count": 14,
     "metadata": {},
     "output_type": "execute_result"
    }
   ],
   "source": [
    "df[\"B_class name\"].nunique() "
   ]
  },
  {
   "cell_type": "markdown",
   "metadata": {},
   "source": [
    "<div class=\"alert alert-block alert-info\">\n",
    "<b>Insight:</b> <br> There are 8 types of classification which are food, retail, education, life service, real estate, tour/leisure/entertain, accomodation, sports.\n",
    "</div>"
   ]
  },
  {
   "cell_type": "code",
   "execution_count": 15,
   "metadata": {},
   "outputs": [
    {
     "data": {
      "text/plain": [
       "array(['한식', '의복의류', '학원-보습교습입시', '건강/미용식품', '취미/오락관련소매', '기타서비스업',\n",
       "       '운송/배달/택배', '유흥주점', '학원-창업취업취미', '자동차/자동차용품', '가정/주방/인테리어',\n",
       "       '부동산중개', '사무/문구/컴퓨터', '사진/광학/정밀기기소매', '패스트푸드', '종합소매점', '화장품소매',\n",
       "       '닭/오리요리', '도서관/독서실', '커피점/카페', '무도/유흥/가무', '자동차/이륜차', '선물/팬시/기념품',\n",
       "       '이/미용/건강', '분식', '음/식료품소매', 'PC/오락/당구/볼링등', '세탁/가사서비스', '기타판매업',\n",
       "       '운동/경기용품소매', '가방/신발/액세서리', '시계/귀금속소매', '학원-예능취미체육', '학원기타',\n",
       "       '가전제품소매', '물품기기대여', '의약/의료품소매', '책/서적/도서', '제과제빵떡케익', '일식/수산물',\n",
       "       '학문교육기타', '예식/의례/관혼상제', '양식', '사진', '학원-음악미술무용', '애견/애완/동물', '대행업',\n",
       "       '철물/난방/건설자재소매', '별식/퓨전요리', '모텔/여관/여인숙', '주택수리', '호텔/콘도', '가구소매',\n",
       "       '유아용품', '중식', '유아교육', '요가/단전/마사지', '광고/인쇄', '주유소/충전소', '기타음식업',\n",
       "       '학원-어학', '민박/하숙', '평가/개발/관리', '인력/고용/용역알선', '연극/영화/극장',\n",
       "       '개인/가정용품수리', '학원-자격/국가고시', '개인서비스', '장례/묘지', '예술품/골동품/수석/분재',\n",
       "       '대중목욕탕/휴게', '부페', '법무세무회계', '행사/이벤트', '중고품소매/교환', '페인트/유리제품소매',\n",
       "       '분양', '학원-컴퓨터', '음식배달서비스', '스포츠/운동', '종교용품판매', '경마/경륜/성인오락',\n",
       "       '캠프/별장/펜션', '놀이/여가/취미', '운영관리시설', '실내운동시설', '유스호스텔', '부동산관련서비스',\n",
       "       '실외운동시설', '부동산임대', '전시/관람', '기타교육기관', '특수교육기관'], dtype=object)"
      ]
     },
     "execution_count": 15,
     "metadata": {},
     "output_type": "execute_result"
    }
   ],
   "source": [
    "df['M_class name'].unique()"
   ]
  },
  {
   "cell_type": "code",
   "execution_count": 16,
   "metadata": {},
   "outputs": [
    {
     "data": {
      "text/plain": [
       "93"
      ]
     },
     "execution_count": 16,
     "metadata": {},
     "output_type": "execute_result"
    }
   ],
   "source": [
    "df['M_class name'].nunique()"
   ]
  },
  {
   "cell_type": "markdown",
   "metadata": {},
   "source": [
    "<div class=\"alert alert-block alert-info\">\n",
    "<b>Insight:</b> <br> There are 93 types of medium classification\n",
    "</div>"
   ]
  },
  {
   "cell_type": "code",
   "execution_count": 17,
   "metadata": {},
   "outputs": [
    {
     "data": {
      "text/plain": [
       "array(['한식/백반/한정식', '셔츠/내의/속옷', '학원-입시', '건강원', '악기판매', '상품전시', '종합이삿짐대행',\n",
       "       '민속주점', '학원-디자인', '타이어판매', '인테리어/욕실용품/커튼', '부동산중개', '컴퓨터전문매장',\n",
       "       '카메라판매', '일반의류', '토스트전문', '편의점', '화장품판매점', '삼계탕전문', '족발/보쌈전문',\n",
       "       '곱창/양구이전문', '독서실', '커피전문점/카페/다방', '패스트푸드', '노래방', '호프/맥주', '핸드폰소매',\n",
       "       '세차장', '꽃집/꽃배달', '비만/피부관리', '사무용기기소매', '국수/만두/칼국수', '수퍼마켓',\n",
       "       '청과물소매', '사무/문구용품', '컴퓨터/사무용기기종합', '기원', '남성의류전문점', '얼음가게',\n",
       "       '자동차정비/카센타', '캐쥬얼/스포츠의류', '세탁소/빨래방', '패션디자인', '아동복판매', '복권판매',\n",
       "       '운동/경기용품', '청소/소독', '가방/가죽제품소매', '섬유/직물/주단', '정육점', '시계/귀금속',\n",
       "       '양품점', '지물판매', '백화점', '레크레이션지도/상담', '컴퓨터/주변기기', '학원(종합)', '일반가전제품',\n",
       "       '여성미용실', '렌트카', '인터넷PC방', '의료용품소매', '서적/신문소매', '떡전문', '건강식품판매',\n",
       "       '사업경영상담', '참치전문점', '빠/카페/스탠드빠', '운동/코치학교', '생수판매', '예식장/예식서비스',\n",
       "       '주방가구판매', '한복/갈옷/민속옷', '정통양식/경양식', '사진관', '부대찌개/섞어찌개', '안경원',\n",
       "       '등산용품판매', '피아노/바이올린/기타', '애견/애완/동물사육판매', '닭내장/닭발요리', '이민유학알선',\n",
       "       '음식점-일식', '셔터/새시판매', '죽전문점', '모텔/여관/여인숙', '주택수리종합', '도시락전문점',\n",
       "       '해장국/감자탕', '육류소매', '떡볶이전문', '호텔/콘도', '선물용품판매', '보청기판매', '종합소매',\n",
       "       '식료품점', '침구/수예품', '파전전문', '비디오감상실', '서예/서화/미술', '완구점', '시계방',\n",
       "       '일반가구소매', '우유판매', '동남아음식전문점', '조명기구/전기용품', '룸살롱/단란주점', '태권도장',\n",
       "       '중고자동차판매', '갈비/삼겹살', '구두제화/캐주얼화', '유아용품판매', '여성의류전문점', '배관난방보일러',\n",
       "       '중국음식/중국집', '횟집', '자동차판매', '서점', '라면김밥분식', '할인점', '도너츠전문', '어린이집',\n",
       "       '자동차부품판매', '로바다야끼', '피자전문', '철물/건설자재소매', '요가/단식', '가발판매', '인쇄종합',\n",
       "       '보일러/냉난방용품', '카오디오전문', '제과점', '여성내의전문점', '당구장', '맞춤양복/양복점', '주유소',\n",
       "       '간판제작종합', '복전문', '폐백전문', '후라이드/양념치킨', '생활용품판매', '방앗간/정미소',\n",
       "       '구내식당/자급식음식점', '학원-외국어/어학', '민박/하숙', '추어탕전문', '상품권판매', '인장/도장',\n",
       "       '소주방/포장마차', '자전거판매/수리', '통신판매', '학원-스포츠/재즈댄스', '남성미용실', '잡화점',\n",
       "       '신용조사/흥신소', '생식판매', '부동산자문', '갈치/생선구이', '가사도우미알선', '연극/음악/예술관련기타',\n",
       "       '스포츠마사지', '가전제품수리', '학원-간호조무사', '학원-기타', '건축백화점', '물품대여종합',\n",
       "       '음식점-초밥전문', '놀이방', '다이어트상품판매', '가죽/모피의류', '정수기연수기', '맞춤양장/양장점',\n",
       "       '유리/페인트/철물건축자재', '운명감정작명', '수산물소매', '액세서리판매', '신발소매', '스파게티전문점',\n",
       "       '기사식당', '반찬가게', '유기농식품판매', '개인/가정용품수리-종합', '장의사/관련서비스-종합',\n",
       "       '발/네일케어', '인력공급/고용알선', '미곡상', '표구점', '컴퓨터수리', '꼬치구이전문점', '패밀리레스토랑',\n",
       "       '휴게텔', '순대전문점', '안마시술소', '광고물제작-종합', '수입품판매점', '오토바이판매/수리', '수족관',\n",
       "       '탐정/경호', '종합부페', '아이스크림판매', '학원-편입', '냉면집', '돌구이요리전문', '우산/우의판매',\n",
       "       '찜닭전문점', '법무관련서비스-종합', '열쇠판매/수리', '우체국/우편물취급소', '어물상', '가구판매-침대전문',\n",
       "       '연예인대리업', '기독교서적판매', '십자수/뜨개', '아구전문', '관광/유흥주점', '미장타일도배도장',\n",
       "       '기타고기요리', '가정용가구/기기임대', '닭갈비전문', '재활용/고물수집', '해물찜/탕전문',\n",
       "       '오락게임기구/장난감소매', '연탄판매', '유리/거울판매', '복사대행', '유아/임부복', '학원-웅변',\n",
       "       '결혼상담소', '주차장운영', '홍어전문', '기타일반유흥주점', '작곡', '금은방', '보드게임카페',\n",
       "       '건물분양-종합', '번역/통역서비스', '학원-무용', '묘지관리-종합', '에어컨수리/설치', '케익전문점',\n",
       "       '욕탕업-종합', '기타전문서양음식점', '학습지보급', '특수복판매', '옷수선', '스낵', '실내놀이터-유아',\n",
       "       '유리창호', '순두부전문', '가방구두수전', '생과일주스전문점', '수도설비', '화방/필방', '주택공급',\n",
       "       '오리고기전문', '고시원', '건강보조기구판매', '광택전문', '곰장어전문', '화랑', '예복/웨딩드레스',\n",
       "       '학원-심리변론', '가구판매-사무용가구', '가구판매-돌침대', '떡/한과집', '샤브샤브전문', '시장/종합상가',\n",
       "       '의약품소매', '농자재판매', '무도장', '네비게이션판매', '컴퓨터학원', '페인트/유리제품소매', '녹즙판매',\n",
       "       '설렁탕집', '수입자동차판매', '쌈밥전문', '무도유흥주점-종합', '우동전문점', '낙지/오징어',\n",
       "       '조립식앵글판매', '오디오전문점', '이벤트기획', '매운탕전문', '한정식전문', '공예품판매',\n",
       "       '전통찻집/인삼찻집', '비디오/오디오테이프대여', '잡지/신문소매', '가구판매-수입가구', '야식집', '실내낚시',\n",
       "       '샌드위치전문점', '학원-국가고시', '금고판매', '스테이크전문점', '나이트클럽', '사무기기대여',\n",
       "       '자동차장식품판매', '곡물소매', '사우나/증기탕/온천', '고기부페', '학원-주산암산부기속셈', '골프용품판매',\n",
       "       '종교용품판매-불교', '부동산감정평가', '학원/국가고시', '교복판매', '금연관련제품판매', '민물장어전문',\n",
       "       '인삼제품판매', '자동판매기운영', '유아교육기관기타', '가스설비', '돌솥/비빕밥전문점', '탁구장', '핫도그',\n",
       "       '돈가스전문점', '학원-어린이영어', '중고가전가구', '게임룸', '단식원', '국제회의용역', '사무대리서비스',\n",
       "       '두부요리전문', '자전거판매', '철판구이요리전문', '수산물전문음식점-종합', '건과류판매', '사철탕전문',\n",
       "       '유니폼/맞춤복/단체복', '목제품판매', '예절지도', '중고명품판매교환', '토산품/기념품점', '분재판매',\n",
       "       '인라인스케이트판매', '광고물제작', '식자재판매', '바베큐전문', '퀼트전문', '검도도장', '건어물상',\n",
       "       '학원-꽃꽃이', '볼링장', '보리밥전문', '학원-요리', '골프회원권거래소', '주방용품', '학원-바둑',\n",
       "       '사업중개업', '학원-마술', '미싱판매', '도서/만화대여', '그릇판매', '구판장/직판장', '캠프/별장/펜션',\n",
       "       '노래방기기판매', '정보통신기기수리', '차량가스충전소', '유류판매', '솜틀집', '단전호흡', '기능성신발판매',\n",
       "       '음식출장조달', '음반/테이프/CD', '학원-도배', '전자오락실', '합기도장', '사주카페', '전화기판매',\n",
       "       '기타오락관련산업', '유아용품/장난감대여판매', '고등어전문', '청바지판매', '황태전문', '국/찌개배달',\n",
       "       '목욕업-찜질방', '아케이드/쇼핑센타', '관광/민예품/선물용품소매', '낚시용품판매', '퓨전음식전문',\n",
       "       '컴퓨터프로그램판매', '학원-속독', '액세서리수선', '지압원', '도료염료', '연극공연/영화제작용품임대',\n",
       "       '카레전문점', '학원-만화영화', '기타운영설비', '조개구이전문', '오락/스포츠용품대여', '광촉매판매',\n",
       "       '한식부페', '스키장비판매', '고속도로휴게소', '비데판매', '혼수전문점', '상업사진', '행사대행',\n",
       "       '학원-실내운전', '조합/연금매장', '블럭놀이방', '출장파티/연회대행', '기타실내운동시설', '골동품수리',\n",
       "       '학원-자동차운전', '할인/아동도서', '지물재단', '기념패/휘장', '닭집', '상품포장', '헬스클럽',\n",
       "       '극장식유흥주점', '예술품/골동품소매', '학원-공예', '향수전문점', '유도장', '학원-피부미용',\n",
       "       '학원-사교춤', '불닭전문', '애완동물 미용실', '신발세탁', '학원-광고디자인', '학원-배우/탤런트',\n",
       "       '연극극장', '안전보호구판매', 'LPG판매', '면세백화점', '학원-펜글씨/한문', '성인용품판매',\n",
       "       '학원-미용', '가정용연료소매', '차량연료소매-종합', '학원-복장', '디스플레이대행', '지도제작',\n",
       "       '바닷가재/게요리전문', '대서소', '학원-서당', '학원-국악', '체육관', '학원-에어로빅',\n",
       "       '생활정보제공서비스', '의류/한복대여', '재봉용품판매', '지도판매', '학원-제과기술', '캐릭터상품',\n",
       "       '전단지배포대행', '가구수리', '세탁대행', '학원-가요', '굴요리전문', '노점/유사이동판매', '복싱도장',\n",
       "       '찐빵전문', '악기수선', '수입가전제품판매', '학원-칵테일', '농기구판매', '고객관리대행',\n",
       "       '부동산소유권조사', '어판장', '카페트판매', '탕수육전문점', '오락용사격장', '가구판매-응접세트',\n",
       "       '쿵후도장', '이종격투기', '학원-한복기술', '열쇠제작', '자동차유리전문점', '운전연수전문',\n",
       "       '기타경기후원업/경기단체', '수영용품판매', '도면제작대행', '주말농장', '실내스케이트장', '조립칸막이/파티션',\n",
       "       '외국서적판매', '상가분양', '학원-분장', '이동도서관운영', '잉크충전', '학원-공인중개사', '경보기판매',\n",
       "       '김치판매', '심부름센터', '해물부페', '건강/헬스용품', '의족/의수판매', '시험정보안내', '체형미교실',\n",
       "       '학원-속기', '휴대폰튜닝', '학원-경리', '그림/액자판매', '홈패션', '업소용가전제품', '학원-역학',\n",
       "       '보석감정', '가스레인지판매', '채식/한식부페', '꽃꽂이(대행)', '신용카드조회기판매', '학원-캐드',\n",
       "       '비즈공예', '이벤트용품판매', '유스호스텔', '학원-경찰', '액자점', '냉동식품판매', '학원-세탁기술',\n",
       "       '두유판매', '골동품판매', '건축물시설관리', '진열장판매', '저울판매', '제기용품판매', '호스피스',\n",
       "       '소파침대카펫트세탁', '수입중고자동차판매', '물물교환센타', '비디오카메라대여', '조감도/투시도전문',\n",
       "       '토종닭전문', '피아노조율', '종교용품판매-기독교', '실내골프연습장', '비행훈련원', '사무실분양',\n",
       "       '부동산신탁', '천주교서적판매', '중고서적판매', '다이아몬드매매', '닭도리탕전문', '법복(승복)판매',\n",
       "       '생과자점', '애견카페', '물수건대여', '수석판매', '게장전문', '한국식유흥주점', '스포츠센터',\n",
       "       '리본공예판매', '풍선도소매', '낚시터', '악기대여', '학원-자동차정비', '생활용품대여', '락카페',\n",
       "       '필름판매점', '테니스장', '세탁기구판매', '음악감상', '사진/광학/정밀기기소매', '버섯전문점', '인공암벽',\n",
       "       '실내야구연습장', '무전기(판매/수리)', '볼링용품판매', '종교용품판매', '태양열온수기판매', '중고타이어판매',\n",
       "       '옻닭전문', '총포상', '축구장', '학원-건축토목기술', '학원-말더듬', '학원-중장비', '문서송달대행',\n",
       "       '학원-스튜디어스', '징기스칸요리전문', '유아식품판매', '학원-보석감정', '학원-애견미용', '실외야구연습장',\n",
       "       '변호사', '수상운동용품판매', '가죽/모피수선', '포켓볼장', '응원기획', '학원-아트플라워', '제과재료판매',\n",
       "       '학원-경영', '학원-네일아트', '전자오락기구판매', '광고대행-전화번호부', '컴퓨터입력대행', '사료소매',\n",
       "       '임대-사무실/오피스텔/공장', '킥복싱', '학원-목공예', '골프장', '학원-전기기술', '지역정보지',\n",
       "       '학원-전자통신', '현미경/망원경판매', '유과판매', '이삿짐보관', '해외취업알선', '편집대행', '활기원',\n",
       "       '스티커사진방', '학원-지점토', '식용유판매', '미용실-어린이', '스케이트장', '학원-관광통역',\n",
       "       '고서적판매', '조립모형소매', '학원-사진', '차트제작', '학원-기계/금형기술', '학원-양재',\n",
       "       '학원-환경기사', '필체감정', '파라솔판매', '문화원', '우표/공중전화카드수집상', '학원-검정고시',\n",
       "       '래프팅', '피아노운반', '선식판매', '불교서적판매', '컴퓨터대여', '동물약품판매', '학원-텔렉스/통신',\n",
       "       '종교서적판매', '초상화제작', '바둑/장기용품판매', '호신용품판매', '학원-기억법', '화환/화분대여',\n",
       "       '종교용품판매-천주교', '가구판매-장농', '학원-자수/동양자수', '유산균아이스크림전문', '물품감정서비스',\n",
       "       '영사기판매', '패션쇼대행', '박제표본', '롤러스케이트장', '학원-이용', '재첩국전문', '학원-레크리에이션',\n",
       "       '특수사진기', '학원-항공기술', '컴퓨터서적판매', '장식품대여', '스쿼시장', '문화센터', '가구판매-등가구',\n",
       "       '실내수영장', '실내테니스장', '특수교육기관-기타', '수영장', '동화구연', '냉온수기소독/수리', '담배소매',\n",
       "       '미술관/박물관', '직업훈련소', '심야전기보일러판매', '풋살경기장', '드라이아이스판매', '공연티켓예매',\n",
       "       '학원-미싱자수'], dtype=object)"
      ]
     },
     "execution_count": 17,
     "metadata": {},
     "output_type": "execute_result"
    }
   ],
   "source": [
    "df[\"S_class name\"].unique()"
   ]
  },
  {
   "cell_type": "code",
   "execution_count": 18,
   "metadata": {},
   "outputs": [
    {
     "data": {
      "text/plain": [
       "669"
      ]
     },
     "execution_count": 18,
     "metadata": {},
     "output_type": "execute_result"
    }
   ],
   "source": [
    "df[\"S_class name\"].nunique()"
   ]
  },
  {
   "cell_type": "markdown",
   "metadata": {},
   "source": [
    "<div class=\"alert alert-block alert-info\">\n",
    "<b>Insight:</b> <br> Small business classify 669 types in details\n",
    "</div>"
   ]
  },
  {
   "cell_type": "code",
   "execution_count": 19,
   "metadata": {},
   "outputs": [
    {
     "data": {
      "text/plain": [
       "서울특별시    346577\n",
       "Name: city name, dtype: int64"
      ]
     },
     "execution_count": 19,
     "metadata": {},
     "output_type": "execute_result"
    }
   ],
   "source": [
    "df['city name'].value_counts()"
   ]
  },
  {
   "cell_type": "markdown",
   "metadata": {},
   "source": [
    "<div class=\"alert alert-block alert-info\">\n",
    "<b>Insight:</b> <br> This shows only seoul region.\n",
    "</div>"
   ]
  },
  {
   "cell_type": "code",
   "execution_count": 20,
   "metadata": {},
   "outputs": [
    {
     "data": {
      "text/plain": [
       "강남구     37482\n",
       "서초구     20317\n",
       "송파구     18673\n",
       "중구      16937\n",
       "강서구     16674\n",
       "광진구     16530\n",
       "영등포구    16262\n",
       "마포구     14869\n",
       "강동구     14349\n",
       "종로구     13883\n",
       "동대문구    13718\n",
       "관악구     13551\n",
       "은평구     12647\n",
       "구로구     11855\n",
       "성북구     11844\n",
       "용산구     11543\n",
       "노원구     11450\n",
       "양천구     10610\n",
       "중랑구     10450\n",
       "서대문구     9940\n",
       "성동구      9531\n",
       "금천구      8936\n",
       "동작구      8692\n",
       "도봉구      7929\n",
       "강북구      7905\n",
       "Name: district name, dtype: int64"
      ]
     },
     "execution_count": 20,
     "metadata": {},
     "output_type": "execute_result"
    }
   ],
   "source": [
    "df['district name'].value_counts()"
   ]
  },
  {
   "cell_type": "code",
   "execution_count": 21,
   "metadata": {},
   "outputs": [
    {
     "data": {
      "image/png": "[encoded data removed]",
      "text/plain": [
       "<Figure size 1080x504 with 1 Axes>"
      ]
     },
     "metadata": {
      "needs_background": "light"
     },
     "output_type": "display_data"
    }
   ],
   "source": [
    "plt.figure(figsize=(15,7))\n",
    "sns.countplot(data=df,y='district name',order=df['district name'].value_counts().index)\n",
    "plt.show()"
   ]
  },
  {
   "cell_type": "markdown",
   "metadata": {},
   "source": [
    "<div class=\"alert alert-block alert-info\">\n",
    "<b>Insight:</b> <br> The most number of stores are in Gangnam followed by Seocho and Songpa.\n",
    "</div>"
   ]
  },
  {
   "cell_type": "code",
   "execution_count": 22,
   "metadata": {},
   "outputs": [
    {
     "data": {
      "text/plain": [
       "음식          135810\n",
       "소매          101638\n",
       "생활서비스        58593\n",
       "학문/교육        25011\n",
       "부동산          14260\n",
       "관광/여가/오락      8029\n",
       "숙박            2617\n",
       "스포츠            619\n",
       "Name: B_class name, dtype: int64"
      ]
     },
     "execution_count": 22,
     "metadata": {},
     "output_type": "execute_result"
    }
   ],
   "source": [
    "df['B_class name'].value_counts()"
   ]
  },
  {
   "cell_type": "code",
   "execution_count": 23,
   "metadata": {},
   "outputs": [
    {
     "data": {
      "text/plain": [
       "음식          0.391861\n",
       "소매          0.293262\n",
       "생활서비스       0.169062\n",
       "학문/교육       0.072166\n",
       "부동산         0.041145\n",
       "관광/여가/오락    0.023167\n",
       "숙박          0.007551\n",
       "스포츠         0.001786\n",
       "Name: B_class name, dtype: float64"
      ]
     },
     "execution_count": 23,
     "metadata": {},
     "output_type": "execute_result"
    }
   ],
   "source": [
    "biz_class=df['B_class name'].value_counts(normalize=True)\n",
    "biz_class"
   ]
  },
  {
   "cell_type": "code",
   "execution_count": 24,
   "metadata": {},
   "outputs": [
    {
     "data": {
      "text/plain": [
       "<matplotlib.axes._subplots.AxesSubplot at 0x1d09f9e0308>"
      ]
     },
     "execution_count": 24,
     "metadata": {},
     "output_type": "execute_result"
    },
    {
     "data": {
      "image/png": "[encoded data removed]",
      "text/plain": [
       "<Figure size 432x288 with 1 Axes>"
      ]
     },
     "metadata": {
      "needs_background": "light"
     },
     "output_type": "display_data"
    }
   ],
   "source": [
    "biz_class.plot.bar(rot=60)"
   ]
  },
  {
   "cell_type": "markdown",
   "metadata": {},
   "source": [
    "<div class=\"alert alert-block alert-success\">\n",
    "<b>What kind of small businesses are the most in Seoul?  Answer:</b> <br> Food takes the largest number of stores and it take 39.1 percent of total. The second largest is retail shops by taking over 29 percent. So, Food and retail stores are taking more than half in total.\n",
    "</div>"
   ]
  },
  {
   "cell_type": "code",
   "execution_count": 46,
   "metadata": {},
   "outputs": [
    {
     "data": {
      "image/png": "[encoded data removed]",
      "text/plain": [
       "<Figure size 1440x720 with 1 Axes>"
      ]
     },
     "metadata": {
      "needs_background": "light"
     },
     "output_type": "display_data"
    }
   ],
   "source": [
    "plt.figure(figsize=(20,10))\n",
    "sns.countplot(data=df,x='district name',hue='B_class name')\n",
    "plt.show()"
   ]
  }
 ],
 "metadata": {
  "kernelspec": {
   "display_name": "Python 3",
   "language": "python",
   "name": "python3"
  },
  "language_info": {
   "codemirror_mode": {
    "name": "ipython",
    "version": 3
   },
   "file_extension": ".py",
   "mimetype": "text/x-python",
   "name": "python",
   "nbconvert_exporter": "python",
   "pygments_lexer": "ipython3",
   "version": "3.7.6"
  },
  "toc": {
   "base_numbering": 1,
   "nav_menu": {},
   "number_sections": true,
   "sideBar": true,
   "skip_h1_title": false,
   "title_cell": "Table of Contents",
   "title_sidebar": "Contents",
   "toc_cell": false,
   "toc_position": {
    "height": "calc(100% - 180px)",
    "left": "10px",
    "top": "150px",
    "width": "208px"
   },
   "toc_section_display": true,
   "toc_window_display": true
  }
 },
 "nbformat": 4,
 "nbformat_minor": 4
}
